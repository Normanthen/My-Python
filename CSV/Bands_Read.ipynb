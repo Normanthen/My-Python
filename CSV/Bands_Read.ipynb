{
 "cells": [
  {
   "cell_type": "code",
   "execution_count": 2,
   "metadata": {},
   "outputs": [
    {
     "name": "stdout",
     "output_type": "stream",
     "text": [
      "[['0.7773' '-0.315' '0.744' '0.4284']\n",
      " ['0.784' '-0.2569' '0.7507' '0.4105']\n",
      " ['0.7907' '-0.1991' '0.7573' '0.3919']\n",
      " ['0.7973' '-0.1415' '0.764' '0.3729']\n",
      " ['0.804' '-0.0842' '0.7707' '0.3533']\n",
      " ['0.8107' '-0.0272' '0.7773' '0.3333']\n",
      " ['0.8173' '0.0295' '0.784' '0.3129']\n",
      " ['0.824' '0.0859' '0.7907' '0.2922']\n",
      " ['0.8307' '0.1417' '0.7973' '0.2713']\n",
      " ['0.844' '0.2521' '0.804' '0.2502']\n",
      " ['0.8507' '0.3062' '0.8107' '0.229']\n",
      " ['0.8573' '0.3595' '0.8173' '0.2078']\n",
      " ['0.864' '0.4118' '0.824' '0.1866']\n",
      " ['0.8707' '0.4626' '0.8307' '0.1654']\n",
      " ['0.8773' '0.5115' '0.844' '0.1234']\n",
      " ['0.884' '0.5578' '0.8507' '0.1027']\n",
      " ['0.8907' '0.6004' '0.8573' '0.0822']\n",
      " ['0.8973' '0.6378' '0.864' '0.0621']\n",
      " ['0.904' '0.6678' '0.8707' '0.0422']\n",
      " ['0.9107' '0.6879' '0.8773' '0.0227']\n",
      " ['0.924' '0.6608' '0.884' '0.0036']\n",
      " ['0.9373' '0.6369' '0.8907' '-0.015']\n",
      " ['0.9506' '0.5968' '0.8973' '-0.0333']\n",
      " ['0.964' '0.5261' '0.904' '-0.051']\n",
      " ['0.9773' '0.4493' '0.9107' '-0.068']\n",
      " ['0.9906' '0.3691' '0.924' '-0.0357']\n",
      " ['1.004' '0.2867' '0.9373' '-0.0065']\n",
      " ['1.0173' '0.2032' '0.9506' '0.0199']\n",
      " ['1.0306' '0.1189' '0.964' '0.0437']\n",
      " ['1.044' '0.0344' '0.9773' '0.0657']\n",
      " ['1.0573' '-0.0499' '0.9906' '0.0863']\n",
      " ['1.0706' '-0.1339' '1.004' '0.1062']\n",
      " ['1.084' '-0.2173' '1.0173' '0.126']\n",
      " ['1.0973' '-0.2922' '1.044' '0.1675']\n",
      " ['' '' '        1.0573' '0.19']\n",
      " ['' '' '        1.0706' '0.214']\n",
      " ['' '' '        1.084' '0.2396']\n",
      " ['' '' '        1.0973' '0.2668']\n",
      " ['' '' '        1.1106' '0.2956']\n",
      " ['' '' '        1.124' '0.3256']\n",
      " ['' '' '        1.1373' '0.3565']\n",
      " ['' '' '        1.1506' '0.3877']\n",
      " ['' '' '        1.164' '0.4188']]\n"
     ]
    }
   ],
   "source": [
    "import csv\n",
    "import numpy as np\n",
    "\n",
    "# Specify the path to your CSV file\n",
    "csv_file_path = '../../TE_Calculation/TiS/Fitting/Appendage.csv'\n",
    "\n",
    "# Open the CSV file using the 'with' statement to ensure proper file closure\n",
    "with open(csv_file_path, 'r', newline='', encoding='utf-8') as file:\n",
    "    # Create a CSV reader object with tab delimiter\n",
    "    csv_reader = csv.reader(file, delimiter='\\t')\n",
    "\n",
    "    # Read the header row to get column names\n",
    "    headers = next(csv_reader)\n",
    "\n",
    "    # Initialize an empty dictionary to store column data\n",
    "    columns = {header: [] for header in headers}\n",
    "\n",
    "    # Iterate through the rows in the CSV file\n",
    "    for row in csv_reader:\n",
    "        # Iterate through each column in the row and append the value to the corresponding list\n",
    "        for col_num, value in enumerate(row):\n",
    "            columns[headers[col_num]].append(value)\n",
    "\n",
    "# Convert the dictionary of columns to a NumPy array\n",
    "data_array = np.array(list(columns.values())).T\n",
    "\n",
    "# Print the NumPy array\n",
    "print(data_array)\n"
   ]
  },
  {
   "cell_type": "code",
   "execution_count": 1,
   "metadata": {},
   "outputs": [
    {
     "name": "stdout",
     "output_type": "stream",
     "text": [
      "kv_New: ['0.7773', '0.784', '0.7907', '0.7973', '0.804', '0.8107', '0.8173', '0.824', '0.8307', '0.844', '0.8507', '0.8573', '0.864', '0.8707', '0.8773', '0.884', '0.8907', '0.8973', '0.904', '0.9107', '0.924', '0.9373', '0.9506', '0.964', '0.9773', '0.9906', '1.004', '1.0173', '1.0306', '1.044', '1.0573', '1.0706', '1.084', '1.0973', '', '', '', '', '', '', '', '', '']\n",
      "Ekv_New: ['-0.315', '-0.2569', '-0.1991', '-0.1415', '-0.0842', '-0.0272', '0.0295', '0.0859', '0.1417', '0.2521', '0.3062', '0.3595', '0.4118', '0.4626', '0.5115', '0.5578', '0.6004', '0.6378', '0.6678', '0.6879', '0.6608', '0.6369', '0.5968', '0.5261', '0.4493', '0.3691', '0.2867', '0.2032', '0.1189', '0.0344', '-0.0499', '-0.1339', '-0.2173', '-0.2922', '', '', '', '', '', '', '', '', '']\n",
      "kc_New: ['0.744', '0.7507', '0.7573', '0.764', '0.7707', '0.7773', '0.784', '0.7907', '0.7973', '0.804', '0.8107', '0.8173', '0.824', '0.8307', '0.844', '0.8507', '0.8573', '0.864', '0.8707', '0.8773', '0.884', '0.8907', '0.8973', '0.904', '0.9107', '0.924', '0.9373', '0.9506', '0.964', '0.9773', '0.9906', '1.004', '1.0173', '1.044', '        1.0573', '        1.0706', '        1.084', '        1.0973', '        1.1106', '        1.124', '        1.1373', '        1.1506', '        1.164']\n",
      "Ekc_New: ['0.4284', '0.4105', '0.3919', '0.3729', '0.3533', '0.3333', '0.3129', '0.2922', '0.2713', '0.2502', '0.229', '0.2078', '0.1866', '0.1654', '0.1234', '0.1027', '0.0822', '0.0621', '0.0422', '0.0227', '0.0036', '-0.015', '-0.0333', '-0.051', '-0.068', '-0.0357', '-0.0065', '0.0199', '0.0437', '0.0657', '0.0863', '0.1062', '0.126', '0.1675', '0.19', '0.214', '0.2396', '0.2668', '0.2956', '0.3256', '0.3565', '0.3877', '0.4188']\n"
     ]
    }
   ],
   "source": [
    "import csv\n",
    "\n",
    "# Specify the path to your CSV file\n",
    "csv_file_path = '../../TE_Calculation/TiS/Fitting/Appendage.csv'\n",
    "\n",
    "# Open the CSV file using the 'with' statement to ensure proper file closure\n",
    "with open(csv_file_path, 'r', newline='', encoding='utf-8') as file:\n",
    "    # Create a CSV reader object with tab delimiter\n",
    "    csv_reader = csv.reader(file, delimiter='\\t')\n",
    "\n",
    "    # Read the header row to get column names\n",
    "    headers = next(csv_reader)\n",
    "\n",
    "    # Initialize a dictionary to store column data\n",
    "    columns = {header: [] for header in headers}\n",
    "\n",
    "    # Iterate through the rows in the CSV file\n",
    "    for row in csv_reader:\n",
    "        # Iterate through each column in the row and append the value to the corresponding list\n",
    "        for col_num, value in enumerate(row):\n",
    "            columns[headers[col_num]].append(value)\n",
    "\n",
    "# Iterate through each column and print the column name and its values\n",
    "for header, values in columns.items():\n",
    "    print(f\"{header}: {values}\")\n"
   ]
  }
 ],
 "metadata": {
  "kernelspec": {
   "display_name": "Python 3",
   "language": "python",
   "name": "python3"
  },
  "language_info": {
   "codemirror_mode": {
    "name": "ipython",
    "version": 3
   },
   "file_extension": ".py",
   "mimetype": "text/x-python",
   "name": "python",
   "nbconvert_exporter": "python",
   "pygments_lexer": "ipython3",
   "version": "3.11.6"
  }
 },
 "nbformat": 4,
 "nbformat_minor": 2
}
