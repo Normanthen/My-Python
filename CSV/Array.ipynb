{
 "cells": [
  {
   "cell_type": "code",
   "execution_count": 4,
   "metadata": {},
   "outputs": [
    {
     "name": "stdout",
     "output_type": "stream",
     "text": [
      "The array has been saved to output.txt\n"
     ]
    }
   ],
   "source": [
    "import numpy as np\n",
    "\n",
    "# Create a NumPy array of floating-point numbers\n",
    "float_array = np.array([[1.234, 2.567], [3.890, 4.321]])\n",
    "\n",
    "# Specify the file name and format (e.g., CSV)\n",
    "file_name = 'output.txt'\n",
    "\n",
    "# Save the array to a text file with a specific format and precision\n",
    "np.savetxt(file_name, float_array, fmt='%.3f', delimiter=', ')\n",
    "\n",
    "# Print a message indicating that the array has been saved\n",
    "print(f\"The array has been saved to {file_name}\")\n"
   ]
  },
  {
   "cell_type": "code",
   "execution_count": 5,
   "metadata": {},
   "outputs": [
    {
     "name": "stdout",
     "output_type": "stream",
     "text": [
      "The array has been saved to output.txt\n"
     ]
    }
   ],
   "source": [
    "import numpy as np\n",
    "\n",
    "# Create a 3D NumPy array of floating-point numbers\n",
    "array3D = np.array([[[1.234, 2.567], [3.890, 4.321]],\n",
    "                    [[5.432, 6.789], [7.654, 8.901]]])\n",
    "\n",
    "# Reshape the 3D array to a 2D array\n",
    "array2D = array3D.reshape(-1, array3D.shape[-1])\n",
    "\n",
    "# Specify the file name and format (e.g., CSV)\n",
    "file_name = 'output.txt'\n",
    "\n",
    "# Save the reshaped 2D array to a text file with a specific format and precision\n",
    "np.savetxt(file_name, array2D, fmt='%.3f', delimiter=', ')\n",
    "\n",
    "# Print a message indicating that the array has been saved\n",
    "print(f\"The array has been saved to {file_name}\")\n"
   ]
  },
  {
   "cell_type": "code",
   "execution_count": 6,
   "metadata": {},
   "outputs": [
    {
     "name": "stdout",
     "output_type": "stream",
     "text": [
      "The arrays have been saved to output1.txt\n"
     ]
    }
   ],
   "source": [
    "import numpy as np\n",
    "\n",
    "# Create two 3D NumPy arrays of floating-point numbers\n",
    "array3D_1 = np.array([[[1.234, 2.567], [3.890, 4.321]],\n",
    "                      [[5.432, 6.789], [7.654, 8.901]]])\n",
    "\n",
    "array3D_2 = np.array([[[9.876, 10.543], [11.234, 12.567]],\n",
    "                      [[13.890, 14.321], [15.432, 16.789]]])\n",
    "\n",
    "# Reshape the 3D arrays to 2D arrays\n",
    "array2D_1 = array3D_1.reshape(-1, array3D_1.shape[-1])\n",
    "array2D_2 = array3D_2.reshape(-1, array3D_2.shape[-1])\n",
    "\n",
    "# Concatenate the 2D arrays along a specified axis (e.g., axis=0 for stacking vertically)\n",
    "combined_array = np.concatenate((array2D_1, array2D_2), axis=0)\n",
    "\n",
    "# Specify the file name and format (e.g., CSV)\n",
    "file_name = 'output1.txt'\n",
    "\n",
    "# Save the combined 2D array to a text file with a specific format and precision\n",
    "np.savetxt(file_name, combined_array, fmt='%.3f', delimiter=', ')\n",
    "\n",
    "# Print a message indicating that the arrays have been saved\n",
    "print(f\"The arrays have been saved to {file_name}\")\n"
   ]
  },
  {
   "cell_type": "code",
   "execution_count": 1,
   "metadata": {},
   "outputs": [
    {
     "name": "stdout",
     "output_type": "stream",
     "text": [
      "The concatenated array has been saved to horizontal.txt\n"
     ]
    }
   ],
   "source": [
    "import numpy as np\n",
    "\n",
    "# Create two 2D NumPy arrays of floating-point numbers\n",
    "array1 = np.array([[1.234, 2.567], [3.890, 4.321]])\n",
    "array2 = np.array([[5.432, 6.789], [7.654, 8.901]])\n",
    "\n",
    "# Concatenate the arrays horizontally\n",
    "concatenated_array = np.hstack((array1, array2))\n",
    "\n",
    "# Alternatively, you can use np.concatenate with axis=1\n",
    "# concatenated_array = np.concatenate((array1, array2), axis=1)\n",
    "\n",
    "# Specify the file name and format (e.g., CSV)\n",
    "file_name = 'horizontal.txt'\n",
    "\n",
    "# Save the concatenated array to a text file with a specific format and precision\n",
    "np.savetxt(file_name, concatenated_array, fmt='%.3f', delimiter=', ')\n",
    "\n",
    "# Print a message indicating that the array has been saved\n",
    "print(f\"The concatenated array has been saved to {file_name}\")\n"
   ]
  },
  {
   "cell_type": "code",
   "execution_count": 2,
   "metadata": {},
   "outputs": [
    {
     "name": "stdout",
     "output_type": "stream",
     "text": [
      "The concatenated array has been saved to Header.txt\n"
     ]
    }
   ],
   "source": [
    "import numpy as np\n",
    "\n",
    "# Create two 2D NumPy arrays of floating-point numbers\n",
    "array1 = np.array([[1.234, 2.567], [3.890, 4.321]])\n",
    "array2 = np.array([[5.432, 6.789], [7.654, 8.901]])\n",
    "\n",
    "# Concatenate the arrays horizontally\n",
    "concatenated_array = np.hstack((array1, array2))\n",
    "\n",
    "# Specify the file name and format (e.g., CSV) with space as the delimiter\n",
    "file_name = 'Header.txt'\n",
    "\n",
    "# Add a header text\n",
    "header_text = \"Header Information: This is the first row of the file\"\n",
    "\n",
    "# Save the concatenated array to a text file with a specific format, precision, and header\n",
    "np.savetxt(file_name, concatenated_array, fmt='%.3f', delimiter=' ', header=header_text, comments='')\n",
    "\n",
    "# Print a message indicating that the array has been saved\n",
    "print(f\"The concatenated array has been saved to {file_name}\")\n"
   ]
  },
  {
   "cell_type": "markdown",
   "metadata": {},
   "source": [
    "# 17/11/2023"
   ]
  },
  {
   "cell_type": "markdown",
   "metadata": {},
   "source": [
    "Finding the number of columns in a 2D array"
   ]
  },
  {
   "cell_type": "code",
   "execution_count": 1,
   "metadata": {},
   "outputs": [
    {
     "name": "stdout",
     "output_type": "stream",
     "text": [
      "Number of columns: 3\n"
     ]
    }
   ],
   "source": [
    "# Example 2D array (list of lists)\n",
    "my_array = [\n",
    "    [1, 2, 3],\n",
    "    [4, 5, 6],\n",
    "    [7, 8, 9]\n",
    "]\n",
    "\n",
    "# Assuming all sublists have the same length\n",
    "num_columns = len(my_array[0])\n",
    "\n",
    "print(\"Number of columns:\", num_columns)\n"
   ]
  }
 ],
 "metadata": {
  "kernelspec": {
   "display_name": "Python 3",
   "language": "python",
   "name": "python3"
  },
  "language_info": {
   "codemirror_mode": {
    "name": "ipython",
    "version": 3
   },
   "file_extension": ".py",
   "mimetype": "text/x-python",
   "name": "python",
   "nbconvert_exporter": "python",
   "pygments_lexer": "ipython3",
   "version": "3.11.6"
  }
 },
 "nbformat": 4,
 "nbformat_minor": 2
}
