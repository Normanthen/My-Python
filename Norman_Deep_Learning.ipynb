{
  "nbformat": 4,
  "nbformat_minor": 0,
  "metadata": {
    "colab": {
      "provenance": [],
      "authorship_tag": "ABX9TyOeit3q6yHdbnfMr1v66sPf",
      "include_colab_link": true
    },
    "kernelspec": {
      "name": "python3",
      "display_name": "Python 3"
    },
    "language_info": {
      "name": "python"
    }
  },
  "cells": [
    {
      "cell_type": "markdown",
      "metadata": {
        "id": "view-in-github",
        "colab_type": "text"
      },
      "source": [
        "<a href=\"https://colab.research.google.com/github/Normanthen/My-Python/blob/main/Norman_Deep_Learning.ipynb\" target=\"_parent\"><img src=\"https://colab.research.google.com/assets/colab-badge.svg\" alt=\"Open In Colab\"/></a>"
      ]
    },
    {
      "cell_type": "markdown",
      "source": [
        "# All-ones or all-zeros tensor"
      ],
      "metadata": {
        "id": "k4nUhs98QKDp"
      }
    },
    {
      "cell_type": "code",
      "execution_count": 9,
      "metadata": {
        "id": "QTWumhqZPSjs",
        "outputId": "879321cc-d034-4aff-d7c4-dd09df5ff24d",
        "colab": {
          "base_uri": "https://localhost:8080/"
        }
      },
      "outputs": [
        {
          "output_type": "stream",
          "name": "stdout",
          "text": [
            "tf.Tensor(\n",
            "[[1.]\n",
            " [1.]], shape=(2, 1), dtype=float32)\n"
          ]
        }
      ],
      "source": [
        "import tensorflow as tf\n",
        "\n",
        "x = tf.ones(shape =(2, 1))\n",
        "print(x)"
      ]
    },
    {
      "cell_type": "code",
      "source": [
        "x = tf.zeros(shape=(2,1))\n",
        "print(x)"
      ],
      "metadata": {
        "id": "L9VuIOWYSFCl",
        "outputId": "7b4afcbf-c781-426a-96b6-966fa025ed53",
        "colab": {
          "base_uri": "https://localhost:8080/"
        }
      },
      "execution_count": 10,
      "outputs": [
        {
          "output_type": "stream",
          "name": "stdout",
          "text": [
            "tf.Tensor(\n",
            "[[0.]\n",
            " [0.]], shape=(2, 1), dtype=float32)\n"
          ]
        }
      ]
    },
    {
      "cell_type": "markdown",
      "source": [
        "# Random Tensor"
      ],
      "metadata": {
        "id": "z5vTN2oaSQXO"
      }
    },
    {
      "cell_type": "code",
      "source": [
        "x = tf.random.normal(shape=(3, 1), mean=0., stddev=1.)\n",
        "print(x)"
      ],
      "metadata": {
        "id": "qDwoH3_cSWS9",
        "outputId": "a1a6fdc7-d6b3-44f8-9242-11c3e696def6",
        "colab": {
          "base_uri": "https://localhost:8080/"
        }
      },
      "execution_count": 11,
      "outputs": [
        {
          "output_type": "stream",
          "name": "stdout",
          "text": [
            "tf.Tensor(\n",
            "[[ 0.62585187]\n",
            " [ 1.7007918 ]\n",
            " [-1.1734303 ]], shape=(3, 1), dtype=float32)\n"
          ]
        }
      ]
    },
    {
      "cell_type": "code",
      "source": [
        "x = tf.random.uniform(shape=(3, 1), minval= 0, maxval = 1)\n",
        "print(x)"
      ],
      "metadata": {
        "id": "2oGjSOWoSxqg",
        "outputId": "30726a3b-07e2-4b10-cf66-73348e0d41b0",
        "colab": {
          "base_uri": "https://localhost:8080/"
        }
      },
      "execution_count": 12,
      "outputs": [
        {
          "output_type": "stream",
          "name": "stdout",
          "text": [
            "tf.Tensor(\n",
            "[[0.44770825]\n",
            " [0.48903   ]\n",
            " [0.7100054 ]], shape=(3, 1), dtype=float32)\n"
          ]
        }
      ]
    },
    {
      "cell_type": "markdown",
      "source": [
        "# NumPy arrays are assignable"
      ],
      "metadata": {
        "id": "dCffnQpXTT0h"
      }
    },
    {
      "cell_type": "code",
      "source": [
        "import numpy as np\n",
        "x = np.ones(shape=(2,2))\n",
        "x[0,0] = 0."
      ],
      "metadata": {
        "id": "8egvVCn4TbrT"
      },
      "execution_count": 13,
      "outputs": []
    },
    {
      "cell_type": "markdown",
      "source": [
        "# TensorFlow tensors are not assignable\n"
      ],
      "metadata": {
        "id": "gXM0xOk-M_Xl"
      }
    },
    {
      "cell_type": "code",
      "source": [
        "#x = tf.ones(shape=(2,2))\n",
        "#x[0, 0] = 0."
      ],
      "metadata": {
        "id": "4lc6H2_sMdD0"
      },
      "execution_count": 14,
      "outputs": []
    },
    {
      "cell_type": "markdown",
      "source": [
        "# Creating a TensorFlow variable\n",
        "\n",
        "To train a model, we'll need to update its state, which is a set of tensors. `tf.variable` is the class meant to manage modifiable state in TensorFlow."
      ],
      "metadata": {
        "id": "3_eBR7GsOJBI"
      }
    },
    {
      "cell_type": "code",
      "source": [],
      "metadata": {
        "id": "_TuZ332DORZT"
      },
      "execution_count": null,
      "outputs": []
    }
  ]
}