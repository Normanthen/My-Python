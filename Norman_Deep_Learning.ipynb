{
  "nbformat": 4,
  "nbformat_minor": 0,
  "metadata": {
    "colab": {
      "provenance": [],
      "authorship_tag": "ABX9TyPgRkSSa0q+wOUn7o8dTn4i",
      "include_colab_link": true
    },
    "kernelspec": {
      "name": "python3",
      "display_name": "Python 3"
    },
    "language_info": {
      "name": "python"
    }
  },
  "cells": [
    {
      "cell_type": "markdown",
      "metadata": {
        "id": "view-in-github",
        "colab_type": "text"
      },
      "source": [
        "<a href=\"https://colab.research.google.com/github/Normanthen/My-Python/blob/main/Norman_Deep_Learning.ipynb\" target=\"_parent\"><img src=\"https://colab.research.google.com/assets/colab-badge.svg\" alt=\"Open In Colab\"/></a>"
      ]
    },
    {
      "cell_type": "markdown",
      "source": [
        "# All-ones or all-zeros tensor"
      ],
      "metadata": {
        "id": "k4nUhs98QKDp"
      }
    },
    {
      "cell_type": "code",
      "execution_count": 1,
      "metadata": {
        "id": "QTWumhqZPSjs",
        "outputId": "7626f37a-8a26-43a2-be1a-85f76b137a49",
        "colab": {
          "base_uri": "https://localhost:8080/"
        }
      },
      "outputs": [
        {
          "output_type": "stream",
          "name": "stdout",
          "text": [
            "tf.Tensor(\n",
            "[[1.]\n",
            " [1.]], shape=(2, 1), dtype=float32)\n"
          ]
        }
      ],
      "source": [
        "import tensorflow as tf\n",
        "\n",
        "x = tf.ones(shape =(2, 1))\n",
        "print(x)"
      ]
    },
    {
      "cell_type": "code",
      "source": [
        "x = tf.zeros(shape=(2,1))\n",
        "print(x)"
      ],
      "metadata": {
        "id": "L9VuIOWYSFCl",
        "outputId": "fdbea87b-e284-454e-9f79-ddb107dec1e9",
        "colab": {
          "base_uri": "https://localhost:8080/"
        }
      },
      "execution_count": 2,
      "outputs": [
        {
          "output_type": "stream",
          "name": "stdout",
          "text": [
            "tf.Tensor(\n",
            "[[0.]\n",
            " [0.]], shape=(2, 1), dtype=float32)\n"
          ]
        }
      ]
    },
    {
      "cell_type": "markdown",
      "source": [
        "# Random Tensor"
      ],
      "metadata": {
        "id": "z5vTN2oaSQXO"
      }
    },
    {
      "cell_type": "code",
      "source": [
        "x = tf.random.normal(shape=(3, 1), mean=0., stddev=1.)\n",
        "print(x)"
      ],
      "metadata": {
        "id": "qDwoH3_cSWS9",
        "outputId": "0df25a3f-7a4e-4172-885e-8288b4310b66",
        "colab": {
          "base_uri": "https://localhost:8080/"
        }
      },
      "execution_count": 3,
      "outputs": [
        {
          "output_type": "stream",
          "name": "stdout",
          "text": [
            "tf.Tensor(\n",
            "[[0.25422055]\n",
            " [1.6433278 ]\n",
            " [0.33914182]], shape=(3, 1), dtype=float32)\n"
          ]
        }
      ]
    },
    {
      "cell_type": "code",
      "source": [
        "x = tf.random.uniform(shape=(3, 1), minval= 0, maxval = 1)\n",
        "print(x)"
      ],
      "metadata": {
        "id": "2oGjSOWoSxqg",
        "outputId": "124b5b51-b93b-45b4-b2a7-2e5e67183258",
        "colab": {
          "base_uri": "https://localhost:8080/"
        }
      },
      "execution_count": 6,
      "outputs": [
        {
          "output_type": "stream",
          "name": "stdout",
          "text": [
            "tf.Tensor(\n",
            "[[0.19204724]\n",
            " [0.04520023]\n",
            " [0.56684005]], shape=(3, 1), dtype=float32)\n"
          ]
        }
      ]
    },
    {
      "cell_type": "markdown",
      "source": [
        "# NumPy arrays are assignable"
      ],
      "metadata": {
        "id": "dCffnQpXTT0h"
      }
    },
    {
      "cell_type": "code",
      "source": [],
      "metadata": {
        "id": "8egvVCn4TbrT"
      },
      "execution_count": null,
      "outputs": []
    }
  ]
}