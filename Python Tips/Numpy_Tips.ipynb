{
 "cells": [
  {
   "cell_type": "markdown",
   "metadata": {},
   "source": [
    "# What does -1 mean in numpy reshape? #\n",
    "**Source:** [Stack Exchange Question](https://stackoverflow.com/questions/18691084/what-does-1-mean-in-numpy-reshape?newreg=21371eea7ee54f7a8a55053ea927b629)"
   ]
  },
  {
   "cell_type": "markdown",
   "metadata": {},
   "source": [
    "## Answer 1\n",
    "\n",
    "**Source**: [lonewolf's answer](https://stackoverflow.com/a/59071031/23999558)\n",
    "\n",
    "*\"It simply means that you are not sure about what number of rows or columns you can give and you are asking numpy to suggest number of column or rows to get reshaped in\"*\n",
    "\n",
    "Here, in this documentation about `np.reshape`, Numpy provides the last example for -1:\n",
    "\n",
    "[`np.reshape` documentation](https://docs.scipy.org/doc/numpy/reference/generated/numpy.reshape.html)\n",
    "\n",
    "Check the code below and its output to better understand about (-1)"
   ]
  },
  {
   "cell_type": "code",
   "execution_count": 2,
   "metadata": {},
   "outputs": [
    {
     "name": "stdout",
     "output_type": "stream",
     "text": [
      "Without reshaping: \n",
      "[[1 2 3 4]\n",
      " [5 6 7 8]]\n",
      "HERE We don't know about what number we should give to row/col\n",
      "Resaphing as (a,-1) :\n",
      "[[1 2 3 4 5 6 7 8]]\n",
      "Here We just know about number of columns\n",
      "[[1 2]\n",
      " [3 4]\n",
      " [5 6]\n",
      " [7 8]]\n",
      "Here We just know about number of rows\n",
      "Reshaping as (a,(2,-1))\n",
      "[[1 2 3 4]\n",
      " [5 6 7 8]]\n"
     ]
    }
   ],
   "source": [
    "import numpy as np\n",
    "\n",
    "a = np.matrix([[1,2,3,4],[5,6,7,8]])\n",
    "print(\"Without reshaping: \")\n",
    "print(a)\n",
    "\n",
    "b = np.reshape(a,-1)\n",
    "print(\"HERE We don't know about what number we should give to row/col\")\n",
    "print(\"Resaphing as (a,-1) :\")\n",
    "print(b)\n",
    "\n",
    "c = np.reshape(a,(-1,2))\n",
    "print(\"Here We just know about number of columns\")\n",
    "print(c)\n",
    "\n",
    "d = np.reshape(a,(2,-1))\n",
    "print(\"Here We just know about number of rows\")\n",
    "print(\"Reshaping as (a,(2,-1))\")\n",
    "print(d)"
   ]
  },
  {
   "cell_type": "markdown",
   "metadata": {},
   "source": [
    "# Boolean Indexing\n",
    "- [NumPy Documentation](https://numpy.org/doc/stable/user/basics.indexing.html#boolean-array-indexing)\n",
    "- [Programriz](https://www.programiz.com/python-programming/numpy/boolean-indexing)\n",
    "- [Google search on Stackexchange](https://www.google.com/search?q=Conditional+indexing+operation+python+site:stackoverflow.com&sca_esv=ebc234f9216407d8&sxsrf=ACQVn09LQpbpbXzJRaUIXCgN-Vpa_a5zXQ:1712326020273&sa=X&ved=2ahUKEwj26bXBn6uFAxXKyDgGHY4FAwIQrQIoBHoECB4QBQ&biw=1272&bih=598&dpr=1.5)\n"
   ]
  },
  {
   "cell_type": "markdown",
   "metadata": {},
   "source": [
    "# NumPy Joining Array\n",
    "- [W3school](https://www.w3schools.com/python/numpy/numpy_array_join.asp)\n",
    "- [Numpy Documentation](https://numpy.org/doc/stable/reference/generated/numpy.concatenate.html) (`np.concatenate`)\n",
    "\n",
    "## Joining NumPy Arrays\n",
    "\n",
    "Joining means putting contents of two or more arrays in a single array.\n",
    "\n",
    "We pass a sequence of arrays that we want to join to the `concatenate` function, along with the axis. If the axis is not explicitly passed, it is taken as 0:"
   ]
  },
  {
   "cell_type": "markdown",
   "metadata": {},
   "source": [
    "**Join two arrays**"
   ]
  },
  {
   "cell_type": "code",
   "execution_count": 22,
   "metadata": {},
   "outputs": [
    {
     "name": "stdout",
     "output_type": "stream",
     "text": [
      "[1 2 3 4 5 6]\n"
     ]
    }
   ],
   "source": [
    "arr1 = np.array([1,2,3])\n",
    "\n",
    "arr2 = np.array([4,5,6])\n",
    "\n",
    "arr  = np.concatenate((arr1,arr2))\n",
    "\n",
    "print(arr)"
   ]
  },
  {
   "cell_type": "markdown",
   "metadata": {},
   "source": [
    "**Join two 2-D arrays along rows (axis =1):**"
   ]
  },
  {
   "cell_type": "code",
   "execution_count": 23,
   "metadata": {},
   "outputs": [
    {
     "name": "stdout",
     "output_type": "stream",
     "text": [
      "[[1 2 5 6]\n",
      " [3 4 7 8]]\n"
     ]
    }
   ],
   "source": [
    "arr1 = np.array([[1,2],[3,4]])\n",
    "arr2 = np.array([[5,6],[7,8]])\n",
    "arr  = np.concatenate((arr1,arr2),axis=1) \n",
    "print(arr)"
   ]
  },
  {
   "cell_type": "markdown",
   "metadata": {},
   "source": [
    "## Joining Arrays Using Stack Functions"
   ]
  },
  {
   "cell_type": "markdown",
   "metadata": {},
   "source": [
    "Stacking is same as concatenation, the only difference is that stacking is done along with a new axis.\n",
    "\n",
    "We can concatenate two 1-D arrays along the second axis which would result in putting them one over the other, i.e. stacking.\n",
    "\n",
    "We pass a sequence of arrays that we want to join to the `stack()` method along with the axis. If axis is not explicitly passed it is taken as 0:"
   ]
  },
  {
   "cell_type": "code",
   "execution_count": 24,
   "metadata": {},
   "outputs": [
    {
     "name": "stdout",
     "output_type": "stream",
     "text": [
      "[[1 4]\n",
      " [2 5]\n",
      " [3 6]]\n"
     ]
    }
   ],
   "source": [
    "arr1 = np.array([1,2,3])\n",
    "\n",
    "arr2 = np.array([4,5,6])\n",
    "\n",
    "arr  = np.stack((arr1,arr2),axis=1)\n",
    "\n",
    "print(arr)"
   ]
  },
  {
   "cell_type": "markdown",
   "metadata": {},
   "source": [
    "**Stacking Along Rows**\n",
    "\n",
    "NumPy provides a helper function: `hstack` to stack along rows"
   ]
  },
  {
   "cell_type": "code",
   "execution_count": 25,
   "metadata": {},
   "outputs": [
    {
     "name": "stdout",
     "output_type": "stream",
     "text": [
      "[1 2 3 4 5 6]\n"
     ]
    }
   ],
   "source": [
    "arr = np.hstack((arr1,arr2))\n",
    "print(arr)"
   ]
  },
  {
   "cell_type": "markdown",
   "metadata": {},
   "source": [
    "**Stacking Along Columns**\n",
    "\n",
    "NumPy provides a helper function: `vstack()` to stack along columns"
   ]
  },
  {
   "cell_type": "code",
   "execution_count": 26,
   "metadata": {},
   "outputs": [
    {
     "name": "stdout",
     "output_type": "stream",
     "text": [
      "[[1 2 3]\n",
      " [4 5 6]]\n"
     ]
    }
   ],
   "source": [
    "arr = np.vstack((arr1,arr2))\n",
    "print(arr)"
   ]
  },
  {
   "cell_type": "markdown",
   "metadata": {},
   "source": [
    "**Stacking Along Height (depth)**\n",
    "\n",
    "Numpy provides a helper function: `dstack` to stack along height which is the same as depth."
   ]
  },
  {
   "cell_type": "code",
   "execution_count": 27,
   "metadata": {},
   "outputs": [
    {
     "name": "stdout",
     "output_type": "stream",
     "text": [
      "[[[1 4]\n",
      "  [2 5]\n",
      "  [3 6]]]\n"
     ]
    }
   ],
   "source": [
    "arr = np.dstack((arr1,arr2))\n",
    "print(arr)"
   ]
  },
  {
   "cell_type": "markdown",
   "metadata": {},
   "source": [
    "# Finding the last element of NumPy Array\n",
    "\n",
    "- [Finxter blog](https://blog.finxter.com/5-best-ways-to-access-the-last-element-of-a-python-numpy-array/)\n",
    "\n",
    "- [GiS Stack Exchange answers](https://gis.stackexchange.com/questions/102219/print-last-digit-in-numpy-array)\n",
    "\n",
    "- [W3school1](https://www.tutorialspoint.com/how-to-select-elements-from-numpy-array-in-python)\n",
    "\n",
    "- [W3school2](https://www.tutorialspoint.com/How-to-get-the-last-element-of-a-list-in-Python)\n",
    "\n",
    "- [Numpy Documentation](https://numpy.org/devdocs/user/absolute_beginners.html)"
   ]
  },
  {
   "cell_type": "markdown",
   "metadata": {},
   "source": [
    "## Method 1: Using Negative Indexing\n",
    "\n",
    "Negative indexing allows us to count from the end of the array. In NumPy, `array[-1]` will return the last element of the array. "
   ]
  },
  {
   "cell_type": "code",
   "execution_count": 28,
   "metadata": {},
   "outputs": [
    {
     "name": "stdout",
     "output_type": "stream",
     "text": [
      "5\n"
     ]
    },
    {
     "data": {
      "text/plain": [
       "numpy.int32"
      ]
     },
     "execution_count": 28,
     "metadata": {},
     "output_type": "execute_result"
    }
   ],
   "source": [
    "# Create a NumPy array\n",
    "arr = np.array([1,2,3,4,5])\n",
    "\n",
    "# Access the last element\n",
    "last_element = arr[-1]\n",
    "print(last_element)\n",
    "type(last_element)"
   ]
  },
  {
   "cell_type": "markdown",
   "metadata": {},
   "source": [
    "## Method 2: Using the `item` Method\n",
    "\n",
    "The `item()` method in NumPy can be used to retrieve a specific element from an array. By passing `-1` as the argument, it retrieves the last element. This method is beneficial when you require the native Python scalar type instead of NumPy type."
   ]
  },
  {
   "cell_type": "code",
   "execution_count": 29,
   "metadata": {},
   "outputs": [
    {
     "name": "stdout",
     "output_type": "stream",
     "text": [
      "5\n"
     ]
    },
    {
     "data": {
      "text/plain": [
       "int"
      ]
     },
     "execution_count": 29,
     "metadata": {},
     "output_type": "execute_result"
    }
   ],
   "source": [
    "# Access the last element as a native Python type\n",
    "last_element = arr.item(-1)\n",
    "print(last_element)\n",
    "type(last_element)"
   ]
  },
  {
   "cell_type": "markdown",
   "metadata": {},
   "source": [
    "## Method 3: Using the `take` function\n",
    "\n",
    "The `take()` is a flexible way to access elements of a NumPy array by specifying the indices. To retrieve the last element you can pass `-1` as the index to the `take()` function."
   ]
  },
  {
   "cell_type": "code",
   "execution_count": 30,
   "metadata": {},
   "outputs": [
    {
     "name": "stdout",
     "output_type": "stream",
     "text": [
      "5\n"
     ]
    },
    {
     "data": {
      "text/plain": [
       "numpy.int32"
      ]
     },
     "execution_count": 30,
     "metadata": {},
     "output_type": "execute_result"
    }
   ],
   "source": [
    "last_element =  np.take(arr,-1)\n",
    "print(last_element)\n",
    "type(last_element)"
   ]
  },
  {
   "cell_type": "markdown",
   "metadata": {},
   "source": [
    "## Method 4: Using the `index` Function with `shape`\n",
    "\n",
    "Another way to access the last element of a NumPy array is to use the array's shape to calculate the index of the last element. The `shape` attribute returns a tuple that represents the size of each dimension of the array. You can use this compute the index of the last element."
   ]
  },
  {
   "cell_type": "code",
   "execution_count": 31,
   "metadata": {},
   "outputs": [
    {
     "name": "stdout",
     "output_type": "stream",
     "text": [
      "5\n",
      "5\n"
     ]
    },
    {
     "data": {
      "text/plain": [
       "numpy.int32"
      ]
     },
     "execution_count": 31,
     "metadata": {},
     "output_type": "execute_result"
    }
   ],
   "source": [
    "#Calculate the index of the last element\n",
    "last_index = arr.shape[0]-1\n",
    "\n",
    "#Access the last element\n",
    "print(arr.shape[0])\n",
    "last_element = arr[last_index]\n",
    "print(last_element)\n",
    "type(last_element)"
   ]
  },
  {
   "cell_type": "markdown",
   "metadata": {},
   "source": [
    "## Method 5: Using the `flat` Attribute (One-Liner)\n",
    "\n",
    "The `flat` attributes provides a 1-D iterator over the array. We can combine this with the `[-1]` index to get the last element in a clean one-liner. "
   ]
  },
  {
   "cell_type": "code",
   "execution_count": 32,
   "metadata": {},
   "outputs": [
    {
     "name": "stdout",
     "output_type": "stream",
     "text": [
      "5\n"
     ]
    },
    {
     "data": {
      "text/plain": [
       "numpy.int32"
      ]
     },
     "execution_count": 32,
     "metadata": {},
     "output_type": "execute_result"
    }
   ],
   "source": [
    "# Access the last element using the `flat` attribute\n",
    "last_element = arr.flat[-1]\n",
    "print(last_element)\n",
    "type(last_element)"
   ]
  }
 ],
 "metadata": {
  "kernelspec": {
   "display_name": "Python 3",
   "language": "python",
   "name": "python3"
  },
  "language_info": {
   "codemirror_mode": {
    "name": "ipython",
    "version": 3
   },
   "file_extension": ".py",
   "mimetype": "text/x-python",
   "name": "python",
   "nbconvert_exporter": "python",
   "pygments_lexer": "ipython3",
   "version": "3.11.9"
  }
 },
 "nbformat": 4,
 "nbformat_minor": 2
}
