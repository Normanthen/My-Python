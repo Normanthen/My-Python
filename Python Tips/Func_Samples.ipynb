{
 "cells": [
  {
   "cell_type": "markdown",
   "metadata": {},
   "source": [
    "# Secant Method"
   ]
  },
  {
   "cell_type": "code",
   "execution_count": 6,
   "metadata": {},
   "outputs": [
    {
     "name": "stdout",
     "output_type": "stream",
     "text": [
      "Estimated root: 1.4142135623730954\n"
     ]
    }
   ],
   "source": [
    "def secant(f, x0, x1, eps=1e-6, max_iter=100):\n",
    "    \"\"\"\n",
    "    Finds the root of a function using the secant method.\n",
    "\n",
    "    Args:\n",
    "        f: The function for which to find the root.\n",
    "        x0: Initial guess for the root.\n",
    "        x1: Second initial guess for the root.\n",
    "        eps: Desired accuracy (default: 1e-6).\n",
    "        max_iter: Maximum number of iterations (default: 100).\n",
    "\n",
    "    Returns:\n",
    "        The estimated root of the function.\n",
    "    \"\"\"\n",
    "\n",
    "    for i in range(max_iter):\n",
    "        try:\n",
    "            x2 = x1 - f(x1) * (x1 - x0) / (f(x1) - f(x0))\n",
    "        except ZeroDivisionError:\n",
    "            print(\"Secant method failed: Division by zero.\")\n",
    "            return None\n",
    "\n",
    "        if abs(x2 - x1) < eps:\n",
    "            return x2\n",
    "\n",
    "        x0 = x1\n",
    "        x1 = x2\n",
    "\n",
    "    print(\"Secant method did not converge within the maximum number of iterations.\")\n",
    "    return None\n",
    "\n",
    "# Example usage:\n",
    "def f(x):\n",
    "    return x**2 - 2\n",
    "\n",
    "root = secant(f, 1, 2)\n",
    "print(\"Estimated root:\", root)"
   ]
  }
 ],
 "metadata": {
  "kernelspec": {
   "display_name": "Python 3",
   "language": "python",
   "name": "python3"
  },
  "language_info": {
   "codemirror_mode": {
    "name": "ipython",
    "version": 3
   },
   "file_extension": ".py",
   "mimetype": "text/x-python",
   "name": "python",
   "nbconvert_exporter": "python",
   "pygments_lexer": "ipython3",
   "version": "3.11.9"
  }
 },
 "nbformat": 4,
 "nbformat_minor": 2
}
