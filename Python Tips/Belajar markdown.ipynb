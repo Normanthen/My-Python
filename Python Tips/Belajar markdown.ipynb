{
 "cells": [
  {
   "attachments": {},
   "cell_type": "markdown",
   "metadata": {},
   "source": [
    "# Heading level 1\n",
    "\n",
    "# Title\n",
    "\n",
    "## Introduction\n",
    "\n",
    "[Add introduction here]\n",
    "\n",
    "## Section 1\n",
    "\n",
    "[Add content for section 1 here]\n",
    "\n",
    "## Section 2\n",
    "\n",
    "[Add content for section 2 here]\n",
    "\n",
    "## Conclusion\n",
    "\n",
    "[Add conclusion here]\n"
   ]
  },
  {
   "attachments": {},
   "cell_type": "markdown",
   "metadata": {},
   "source": [
    "# My Markdown Example\n",
    "\n",
    "This is a **bold** statement.\n",
    "\n",
    "Here's an example of an ordered list:\n",
    "1. First item\n",
    "2. Second item\n",
    "3. Third item\n",
    "\n",
    "And here's an example of an unordered list:\n",
    "- Item 1\n",
    "- Item 2\n",
    "- Item 3\n",
    "\n",
    "You can also include links:\n",
    "[Google](https://www.google.com)\n",
    "\n",
    "That's it for this example!\n"
   ]
  },
  {
   "attachments": {},
   "cell_type": "markdown",
   "metadata": {},
   "source": [
    "# Markdown with HTML Example\n",
    "\n",
    "Here is a Markdown paragraph.\n",
    "\n",
    "<div style=\"background-color: crimson; padding: 10px;\">\n",
    "    This is an HTML div element with custom styling.\n",
    "</div>\n",
    "\n",
    "<!-- > <img src=\"path/to/image.png\" alt=\"Image\" width=\"300\"> -->\n",
    "\n",
    "<table>\n",
    "    <tr>\n",
    "        <th>Header 1</th>\n",
    "        <th>Header 2</th>\n",
    "    </tr>\n",
    "    <tr>\n",
    "        <td>Cell 1</td>\n",
    "        <td>Cell 2</td>\n",
    "    </tr>\n",
    "</table>\n"
   ]
  },
  {
   "attachments": {},
   "cell_type": "markdown",
   "metadata": {},
   "source": [
    "The definite integral of a function f(x) over the interval [a, b] can be represented as:\n",
    "\n",
    "$$ \\int_{a}^{b} f(x) \\, dx $$\n",
    "\n",
    "where $a$ and $b$ are the lower and upper limits of integration, respectively, and $f(x)$ is the function being integrated.\n"
   ]
  },
  {
   "attachments": {},
   "cell_type": "markdown",
   "metadata": {},
   "source": [
    "The fractional function can be represented as:\n",
    "\n",
    "$$ f(x) = \\frac{a}{b} $$\n",
    "\n",
    "where $a$ is the numerator and $b$ is the denominator.\n"
   ]
  },
  {
   "attachments": {},
   "cell_type": "markdown",
   "metadata": {},
   "source": [
    "## **Spacing**\n",
    "\n",
    "To represent the equation for the area of a circle, we use the formula:\n",
    "\n",
    "$$ A = \\pi r^2 $$\n",
    "\n",
    "where $A$ is the area, $\\pi$ is the mathematical constant pi, and $r$ is the radius of the circle.\n",
    "\n",
    "To align the equation more neatly, we can add spacing as follows:\n",
    "\n",
    "$$ A \\, = \\, \\pi \\, r^2 $$\n",
    "\n",
    "Alternatively, we can use the command \\quad to add larger spacing:\n",
    "\n",
    "$$ A \\quad = \\quad \\pi \\quad r^2 $$\n"
   ]
  },
  {
   "attachments": {},
   "cell_type": "markdown",
   "metadata": {},
   "source": [
    "Use the `print()` function to display output.\n",
    "\n",
    "<pre>\n",
    "```\n",
    "def greet(name):\n",
    "    print(\"Hello, \" + name + \"!\")\n",
    "```\n",
    "</pre>\n",
    "\n",
    "<pre>\n",
    "```python\n",
    "def greet(name):\n",
    "    print(\"Hello, \" + name + \"!\")\n",
    "```\n",
    "</pre>"
   ]
  },
  {
   "cell_type": "markdown",
   "metadata": {},
   "source": [
    "To have numbered equations in markdown, you can use double dollar signs to enclose the mathematical expression. Here is an example:\n",
    "\n",
    "$$\n",
    "y = mx + b\n",
    "$$\n",
    "\n",
    "This will render the equation with no numbering. To manually number the equation, you can use the `\\tag` command. Here is an example:\n",
    "\n",
    "$$\n",
    "y = mx + b \\tag{1}\n",
    "$$\n",
    "\n",
    "This will render the equation with an automatic number `(1)` on the right side. You can reference the equation number using the `\\\\ref command`. Here is an example:\n",
    "\n",
    "\\begin{equation} \n",
    "y = mx + b  \n",
    "\\end{equation}\n",
    "\n",
    "Equation (1) represents a line.\n"
   ]
  },
  {
   "cell_type": "markdown",
   "metadata": {},
   "source": [
    "Source: [Bookdown](https://bookdown.org/yihui/bookdown/markdown-extensions-by-bookdown.html)\n",
    "\n",
    "\\begin{equation}\n",
    "  f\\left(k\\right) = \\binom{n}{k} p^k\\left(1-p\\right)^{n-k}\n",
    "  (\\#eq:binom)\n",
    "\\end{equation} \n",
    "\n",
    "see equation \\@ref{\\#eq:binom}\n",
    "\n",
    "Here is an unnumbered equation using the equation* environment:\n",
    "\n",
    "\\begin{equation*}\n",
    "  \\frac{d}{dx} \\left( \\int_{a}^{x} f(u)\\,du \\right) = f(x)\n",
    "\\end{equation*}"
   ]
  },
  {
   "cell_type": "markdown",
   "metadata": {},
   "source": [
    "# Adding Quotes\n",
    "\n",
    "Source: [itsfoss](https://itsfoss.com/markdown-quotes/)\n",
    "\n",
    "> First line\n",
    ">> Second line\n",
    ">>> Third line"
   ]
  },
  {
   "cell_type": "markdown",
   "metadata": {},
   "source": [
    "# Internal Links\n",
    "Source: [itsfoss](https://itsfoss.com/markdown-links/)\n",
    "\n",
    "## In the end...\n",
    "\n",
    "Either read a long boring text\n",
    "or just [jump to the conclusion](#concluding-part)\n",
    "\n",
    "Some text in between\n",
    "\n",
    "## Concluding part\n",
    "In case you want to jump to the conclusions"
   ]
  }
 ],
 "metadata": {
  "kernelspec": {
   "display_name": "base",
   "language": "python",
   "name": "python3"
  },
  "language_info": {
   "codemirror_mode": {
    "name": "ipython",
    "version": 3
   },
   "file_extension": ".py",
   "mimetype": "text/x-python",
   "name": "python",
   "nbconvert_exporter": "python",
   "pygments_lexer": "ipython3",
   "version": "3.9.13"
  },
  "orig_nbformat": 4
 },
 "nbformat": 4,
 "nbformat_minor": 2
}
