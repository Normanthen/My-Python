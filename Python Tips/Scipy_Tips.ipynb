{
 "cells": [
  {
   "attachments": {},
   "cell_type": "markdown",
   "metadata": {},
   "source": [
    "# Scipy learning\n",
    "\n",
    "Source : [Scipy on Tutorials Point](https://www.tutorialspoint.com/scipy/index.htm)"
   ]
  },
  {
   "attachments": {},
   "cell_type": "markdown",
   "metadata": {},
   "source": [
    "## Integration\n",
    "\n",
    "Numerical integration is sometimes called **quadrature**, hence the name. It is normally the default choice for performing single integrals of a function $f(x)$ over a given fixed range from a to b. \n",
    "\n",
    "$$\\int_{a}^{b} f(x)dx$$\n",
    "\n",
    "The general form of quad is **scipy.integrate.quad(f, a, b)**, Where ‘f’ is the name of the function to be integrated. Whereas, ‘a’ and ‘b’ are the lower and upper limits, respectively."
   ]
  },
  {
   "attachments": {},
   "cell_type": "markdown",
   "metadata": {},
   "source": [
    " Let us see an example of the Gaussian function, integrated over a range of 0 and 1.\n",
    "\n",
    " We first need to define the function → $f(x) = e^{-x^2}$ , this can be done using a lambda expression and then call the quad method on that function."
   ]
  },
  {
   "cell_type": "code",
   "execution_count": 2,
   "metadata": {},
   "outputs": [
    {
     "name": "stdout",
     "output_type": "stream",
     "text": [
      "(0.7468241328124271, 8.291413475940725e-15)\n"
     ]
    }
   ],
   "source": [
    "import scipy.integrate\n",
    "from numpy import exp\n",
    "f= lambda x:exp(-x**2)\n",
    "i = scipy.integrate.quad(f, 0, 1)\n",
    "print (i)"
   ]
  },
  {
   "attachments": {},
   "cell_type": "markdown",
   "metadata": {},
   "source": [
    "In the SciPy library, the function `quad` is used for numerical integration of a single-variable function over a specified interval. It approximates the definite integral of a function using a technique called quadrature.\n",
    "\n",
    "The `quad` function is part of the `scipy.integrate` module and has the following syntax:\n",
    "\n",
    "`scipy.integrate.quad(func, a, b, args=())`\n",
    "\n",
    "where:\n",
    "\n",
    "- `func` is the name of the function to be integrated.\n",
    "- `a` and `b` are the lower and upper limits of integration, respectively.\n",
    "- `args` is an optional tuple containing additional arguments to be passed to the integrand function.\n",
    "\n",
    "The quad function returns a tuple `(result, error)`, where `result` is the estimated value of the integral, and `error` is an estimate of the absolute error in the result.\n",
    "\n",
    "Here's a simple example that demonstrates the usage of `quad`:"
   ]
  },
  {
   "cell_type": "code",
   "execution_count": 1,
   "metadata": {},
   "outputs": [
    {
     "name": "stdout",
     "output_type": "stream",
     "text": [
      "Result: 0.33333333333333337\n",
      "Error: 3.700743415417189e-15\n"
     ]
    }
   ],
   "source": [
    "import scipy.integrate as spi\n",
    "\n",
    "# Define the function to integrate\n",
    "def f(x):\n",
    "    return x**2\n",
    "\n",
    "# Compute the definite integral of f(x) from 0 to 1\n",
    "result, error = spi.quad(f, 0, 1)\n",
    "\n",
    "# Print the result\n",
    "print(\"Result:\", result)\n",
    "print(\"Error:\", error)"
   ]
  },
  {
   "attachments": {},
   "cell_type": "markdown",
   "metadata": {},
   "source": [
    "Here's an example that demonstrates the usage of the args parameter in the `quad` of function:\n",
    "\n",
    "$$\\int_{0}^{1} 2x^{2}+3 \\; dx$$"
   ]
  },
  {
   "cell_type": "code",
   "execution_count": 2,
   "metadata": {},
   "outputs": [
    {
     "name": "stdout",
     "output_type": "stream",
     "text": [
      "Result: 3.666666666666667\n",
      "Error: 4.0708177569589075e-14\n"
     ]
    }
   ],
   "source": [
    "import scipy.integrate as spi\n",
    "\n",
    "# Define the function to integrate with additional parameters\n",
    "def g(x, a, b):\n",
    "    return a * x**2 + b\n",
    "\n",
    "# Additional arguments for the integrand function\n",
    "a = 2\n",
    "b = 3\n",
    "\n",
    "# Compute the definite integral of g(x, a, b) from 0 to 1\n",
    "result, error = spi.quad(g, 0, 1, args=(a, b))\n",
    "\n",
    "# Print the result\n",
    "print(\"Result:\", result)\n",
    "print(\"Error:\", error)\n"
   ]
  },
  {
   "attachments": {},
   "cell_type": "markdown",
   "metadata": {},
   "source": [
    "Note that, the `args` parameter in the `quad` function is **NOT** the variable to be integrated.\n",
    "\n",
    "The `args parameter` **IS USED TO** pass additional arguments to the integrand function. These arguments can be constant values, variables, or any other data that the integrand function requires.\n",
    "\n",
    "The variable to be integrated is specified as the first argument (`func`) when calling the quad function. The `args` parameter is used for any extra arguments that need to be passed to the integrand function."
   ]
  },
  {
   "attachments": {},
   "cell_type": "markdown",
   "metadata": {},
   "source": [
    "### Double Integration\n",
    "\n",
    "The general form of **dblquad** is **scipy.integrate.dblquad(func, a, b, gfun, hfun)**. Where, *func* is the name of the function to be integrated, ‘a’ and ‘b’ are the lower and upper limits of the $x$ variable, respectively, while *gfun* and *hfun* are the names of the functions that define the lower and upper limits of the $y$ variable."
   ]
  },
  {
   "attachments": {},
   "cell_type": "markdown",
   "metadata": {},
   "source": [
    "As an example, let us perform the double integral method.\n",
    "\n",
    "$$\\int_{0}^{1/2} dy \\int_{0}^{\\sqrt{1-4y^2}} 16xy \\:dx$$\n",
    "\n",
    "We define the functions $f$, $g$, and $h$, using the lambda expressions. Note that even if $g$ and $h$ are constants, as they may be in many cases, they must be defined as functions, as we have done here for the lower limit."
   ]
  },
  {
   "cell_type": "code",
   "execution_count": 3,
   "metadata": {},
   "outputs": [
    {
     "name": "stdout",
     "output_type": "stream",
     "text": [
      "(0.5, 1.7092350012594845e-14)\n"
     ]
    }
   ],
   "source": [
    "import scipy.integrate\n",
    "from numpy import exp\n",
    "from math import sqrt\n",
    "f = lambda x, y : 16*x*y\n",
    "g = lambda x : 0\n",
    "h = lambda y : sqrt(1-4*y**2)\n",
    "i = scipy.integrate.dblquad(f, 0, 0.5, g, h)\n",
    "print (i)"
   ]
  },
  {
   "cell_type": "markdown",
   "metadata": {},
   "source": [
    "## Another Examples"
   ]
  },
  {
   "cell_type": "markdown",
   "metadata": {},
   "source": [
    "**Example: 1** solve\n",
    "\n",
    "\\begin{equation}\n",
    "\\int_{1}^{2} e^{-sin(x)} dx\n",
    "\\end{equation}"
   ]
  },
  {
   "cell_type": "code",
   "execution_count": null,
   "metadata": {},
   "outputs": [
    {
     "name": "stdout",
     "output_type": "stream",
     "text": [
      "(-0.3845918142796868, 4.2698268729567035e-15)\n"
     ]
    }
   ],
   "source": [
    "import numpy as np\n",
    "from scipy.integrate import quad\n",
    "\n",
    "uplim = 2\n",
    "lowlim = 1\n",
    "\n",
    "\n",
    "def integrand(x):\n",
    "        return np.exp(-np.sin(x))\n",
    "\n",
    "result=quad(integrand, uplim, lowlim)\n",
    "print(result)"
   ]
  },
  {
   "cell_type": "markdown",
   "metadata": {},
   "source": [
    "**Example 2**: Solve\n",
    "\n",
    "\\begin{equation}\n",
    "    \\int_{0}^{\\infty} \\frac{e^{x}}{(x+1)^{2}} dx\n",
    "\\end{equation}"
   ]
  },
  {
   "cell_type": "code",
   "execution_count": null,
   "metadata": {},
   "outputs": [
    {
     "name": "stdout",
     "output_type": "stream",
     "text": [
      "2.6889463679399037e+39\n"
     ]
    }
   ],
   "source": [
    "infty= 100\n",
    "lower=10\n",
    "\n",
    "def test(t1,t2):\n",
    "    def Fermi_Test(x,t1, t2):\n",
    "        return np.exp(x)/(x+1)**2    \n",
    "   \n",
    "    I1, error = quad(Fermi_Test, t1, t2, args=(t1,t2))     \n",
    "    return I1\n",
    "\n",
    "result1= test(lower,infty)\n",
    "print(result1)"
   ]
  },
  {
   "cell_type": "markdown",
   "metadata": {},
   "source": [
    "Testing zeros"
   ]
  },
  {
   "cell_type": "code",
   "execution_count": null,
   "metadata": {},
   "outputs": [
    {
     "name": "stdout",
     "output_type": "stream",
     "text": [
      "[0. 0. 0. 0. 0. 0. 0. 0. 0. 0. 0.]\n"
     ]
    }
   ],
   "source": [
    "print(np.zeros(11))"
   ]
  },
  {
   "cell_type": "code",
   "execution_count": null,
   "metadata": {},
   "outputs": [],
   "source": [
    "\n",
    "def test_s(a,b):\n",
    "    def integrand(x,b):\n",
    "        return b*x**2+b*x\n",
    "    I1, error= quad(integrand, b, 2*b, args=(b))\n",
    "    return a+I1*d\n",
    "\n"
   ]
  },
  {
   "cell_type": "code",
   "execution_count": null,
   "metadata": {},
   "outputs": [
    {
     "name": "stdout",
     "output_type": "stream",
     "text": [
      "350.3333333333333\n"
     ]
    }
   ],
   "source": [
    "value=5\n",
    "b=2\n",
    "d=7\n",
    "c=test_s(value,b)\n",
    "print(c)"
   ]
  },
  {
   "cell_type": "code",
   "execution_count": null,
   "metadata": {},
   "outputs": [
    {
     "name": "stdout",
     "output_type": "stream",
     "text": [
      "6\n",
      "5\n"
     ]
    }
   ],
   "source": [
    "def test_func(x,xx):\n",
    "    def pass_func(xx):\n",
    "        return xx**2\n",
    "    result = pass_func(xx)+x\n",
    "    return result\n",
    "\n",
    "def arb_func(x,xx):\n",
    "    def pass_func(xx):\n",
    "        return xx+1\n",
    "    result = pass_func(xx)+x\n",
    "    return result\n",
    "\n",
    "print(arb_func(2,3))\n",
    "print(test_func(1,2))\n",
    "\n",
    "\n"
   ]
  },
  {
   "cell_type": "markdown",
   "metadata": {},
   "source": [
    "# Scipy Constants #\n",
    "\n",
    "Source: \n",
    "\n",
    "[Scipy.constant Documentation](https://docs.scipy.org/doc/scipy/reference/constants.html) \n",
    "\n",
    "[Kodeclik Blog](https://www.kodeclik.com/python-boltzmann-constant/)"
   ]
  },
  {
   "cell_type": "markdown",
   "metadata": {},
   "source": [
    "To access the Boltzmann constant in Python, we use `Scipy.constants`, a library of mathematical constants that provides access to hundreds of physical constants."
   ]
  },
  {
   "cell_type": "code",
   "execution_count": 1,
   "metadata": {},
   "outputs": [
    {
     "name": "stdout",
     "output_type": "stream",
     "text": [
      "1.380649e-23\n",
      "1.380649e-23\n"
     ]
    }
   ],
   "source": [
    "import scipy.constants as sc \n",
    "\n",
    "print(sc.k)\n",
    "print(sc.Boltzmann)"
   ]
  },
  {
   "cell_type": "markdown",
   "metadata": {},
   "source": [
    "Note that the above values are in $\\mathrm{J \\, K^{-1}}$ unit.\n",
    "\n",
    "It turns out that `scipy.constants` supports the access of the Boltzmann constant in other units as well. For this, it provides a dictionary of physical constants, of the format `physical_constants[name]=(value, unit, uncertainty)`. We just not only can access the Boltzmann constant in  $\\mathrm{J \\, K^{-1}}$, but also in other units as well. For instance, "
   ]
  },
  {
   "cell_type": "code",
   "execution_count": 7,
   "metadata": {},
   "outputs": [
    {
     "name": "stdout",
     "output_type": "stream",
     "text": [
      "(1.380649e-23, 'J K^-1', 0.0)\n",
      "(8.617333262e-05, 'eV K^-1', 0.0)\n",
      "(20836619120.0, 'Hz K^-1', 0.0)\n",
      "(69.50348004, 'm^-1 K^-1', 0.0)\n",
      "1.380649e-23\n"
     ]
    }
   ],
   "source": [
    "print(sc.physical_constants['Boltzmann constant'])\n",
    "print(sc.physical_constants['Boltzmann constant in eV/K'])\n",
    "print(sc.physical_constants['Boltzmann constant in Hz/K'])\n",
    "print(sc.physical_constants['Boltzmann constant in inverse meter per kelvin'])\n",
    "\n",
    "#How to access the value from the dictionary\n",
    "print(sc.physical_constants['Boltzmann constant'][0])"
   ]
  }
 ],
 "metadata": {
  "kernelspec": {
   "display_name": "Python 3",
   "language": "python",
   "name": "python3"
  },
  "language_info": {
   "codemirror_mode": {
    "name": "ipython",
    "version": 3
   },
   "file_extension": ".py",
   "mimetype": "text/x-python",
   "name": "python",
   "nbconvert_exporter": "python",
   "pygments_lexer": "ipython3",
   "version": "3.11.9"
  },
  "orig_nbformat": 4
 },
 "nbformat": 4,
 "nbformat_minor": 2
}
