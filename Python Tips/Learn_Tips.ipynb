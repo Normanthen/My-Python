{
 "cells": [
  {
   "cell_type": "markdown",
   "metadata": {},
   "source": [
    "# What does -1 mean in numpy reshape? #\n",
    "**Source:** [Stack Exchange Question](https://stackoverflow.com/questions/18691084/what-does-1-mean-in-numpy-reshape?newreg=21371eea7ee54f7a8a55053ea927b629)"
   ]
  },
  {
   "cell_type": "markdown",
   "metadata": {},
   "source": [
    "## Answer 1\n",
    "\n",
    "**Source**: [lonewolf's answer](https://stackoverflow.com/a/59071031/23999558)\n",
    "\n",
    "*\"It simply means that you are not sure about what number of rows or columns you can give and you are asking numpy to suggest number of column or rows to get reshaped in\"*\n",
    "\n",
    "Here, in this documentation about `np.reshape`, Numpy provides the last example for -1:\n",
    "\n",
    "[`np.reshape` documentation](https://docs.scipy.org/doc/numpy/reference/generated/numpy.reshape.html)\n",
    "\n",
    "Check the code below and its output to better understand about (-1)"
   ]
  },
  {
   "cell_type": "code",
   "execution_count": 2,
   "metadata": {},
   "outputs": [
    {
     "name": "stdout",
     "output_type": "stream",
     "text": [
      "Without reshaping: \n",
      "[[1 2 3 4]\n",
      " [5 6 7 8]]\n",
      "HERE We don't know about what number we should give to row/col\n",
      "Resaphing as (a,-1) :\n",
      "[[1 2 3 4 5 6 7 8]]\n",
      "Here We just know about number of columns\n",
      "[[1 2]\n",
      " [3 4]\n",
      " [5 6]\n",
      " [7 8]]\n",
      "Here We just know about number of rows\n",
      "Reshaping as (a,(2,-1))\n",
      "[[1 2 3 4]\n",
      " [5 6 7 8]]\n"
     ]
    }
   ],
   "source": [
    "import numpy as np\n",
    "\n",
    "a = np.matrix([[1,2,3,4],[5,6,7,8]])\n",
    "print(\"Without reshaping: \")\n",
    "print(a)\n",
    "\n",
    "b = np.reshape(a,-1)\n",
    "print(\"HERE We don't know about what number we should give to row/col\")\n",
    "print(\"Resaphing as (a,-1) :\")\n",
    "print(b)\n",
    "\n",
    "c = np.reshape(a,(-1,2))\n",
    "print(\"Here We just know about number of columns\")\n",
    "print(c)\n",
    "\n",
    "d = np.reshape(a,(2,-1))\n",
    "print(\"Here We just know about number of rows\")\n",
    "print(\"Reshaping as (a,(2,-1))\")\n",
    "print(d)"
   ]
  },
  {
   "cell_type": "markdown",
   "metadata": {},
   "source": [
    "# Using the Python `*args` and `**kwargs`  variable in Function Definitions\n",
    "\n",
    "Source: [Real Python](https://realpython.com/python-kwargs-and-args/)"
   ]
  },
  {
   "cell_type": "markdown",
   "metadata": {},
   "source": [
    "## Args\n",
    "\n",
    "You simply pass a list or a set of all the arguments to your function. So for `my_sum()`, you could pass a list of all the integers you need to add:"
   ]
  },
  {
   "cell_type": "code",
   "execution_count": 3,
   "metadata": {},
   "outputs": [
    {
     "name": "stdout",
     "output_type": "stream",
     "text": [
      "6\n"
     ]
    }
   ],
   "source": [
    "def my_sum(my_integers):\n",
    "    results=0\n",
    "    for x in my_integers:\n",
    "        results +=x\n",
    "    \n",
    "    return results\n",
    "\n",
    "list_of_integers = [1, 2, 3]\n",
    "print(my_sum(list_of_integers))"
   ]
  },
  {
   "cell_type": "markdown",
   "metadata": {},
   "source": [
    "`*args` allows you to pass a varying number of positional arguments. Take the following example:"
   ]
  },
  {
   "cell_type": "code",
   "execution_count": 4,
   "metadata": {},
   "outputs": [
    {
     "name": "stdout",
     "output_type": "stream",
     "text": [
      "6\n"
     ]
    }
   ],
   "source": [
    "def my_sum(*args):\n",
    "    result = 0\n",
    "    # Iterating over the python args tuple\n",
    "    for x in args:\n",
    "        result += x\n",
    "    return result\n",
    "\n",
    "print(my_sum(1, 2, 3))\n"
   ]
  },
  {
   "cell_type": "markdown",
   "metadata": {},
   "source": [
    "In this example, you're no longer passing a list to `my_sum()`. Instead, you're passing three different positional arguments. `my_sum()` takes all the paramter that are provided in the input and packs them all into a single iterable object named `*args`."
   ]
  },
  {
   "cell_type": "markdown",
   "metadata": {},
   "source": [
    "Note that `*args` **ist just a name**. You're not required to use the name `args`. You can choose any names that you prefer, such as `*integers`:"
   ]
  },
  {
   "cell_type": "code",
   "execution_count": 5,
   "metadata": {},
   "outputs": [
    {
     "name": "stdout",
     "output_type": "stream",
     "text": [
      "6\n"
     ]
    }
   ],
   "source": [
    "def my_sum(*integers):\n",
    "    result = 0\n",
    "    for x in integers:\n",
    "        result +=x\n",
    "    return result\n",
    "\n",
    "print(my_sum(1,2,3))"
   ]
  },
  {
   "cell_type": "markdown",
   "metadata": {},
   "source": [
    "The function still works, even if you pass the iterable object as `integers` instead of `args`. All that matters here is that you use **the unpacking operator (*)**."
   ]
  },
  {
   "cell_type": "markdown",
   "metadata": {},
   "source": [
    "Bear in mind that the iterable object you'll get using is the unpacking operator `*` is not a `list` but a `tuple`. A `tuple` is similiar to a `list` in that they both support slicing and iteration. However, `tuple` are very different in at least one aspect: `list` are mutable, while `tuple` aren't. To test this, run the following code. This script tries to change a value of a list:"
   ]
  },
  {
   "cell_type": "code",
   "execution_count": 6,
   "metadata": {},
   "outputs": [
    {
     "name": "stdout",
     "output_type": "stream",
     "text": [
      "[9, 2, 3]\n"
     ]
    }
   ],
   "source": [
    "my_list = [1,2,3]\n",
    "my_list[0] = 9\n",
    "print(my_list)"
   ]
  },
  {
   "cell_type": "markdown",
   "metadata": {},
   "source": [
    "The value located at the very first index is updated to `9` as you can see above."
   ]
  },
  {
   "cell_type": "markdown",
   "metadata": {},
   "source": [
    "Now, try to do the same with a tuple:"
   ]
  },
  {
   "cell_type": "code",
   "execution_count": 7,
   "metadata": {},
   "outputs": [],
   "source": [
    "#my_tuple = (1,2,3)\n",
    "#my_tuple[0] = 9\n",
    "#print(my_tuple)"
   ]
  },
  {
   "cell_type": "markdown",
   "metadata": {},
   "source": [
    "```\n",
    "---------------------------------------------------------------------------\n",
    "TypeError                                 Traceback (most recent call last)\n",
    "Cell In[10], line 2\n",
    "      1 my_tuple = (1,2,3)\n",
    "----> 2 my_tuple[0] = 9\n",
    "      3 print(my_tuple)\n",
    "\n",
    "TypeError: 'tuple' object does not support item assignment\n",
    "\n",
    "```"
   ]
  },
  {
   "cell_type": "markdown",
   "metadata": {},
   "source": [
    "You see that the python interpreter returns an error.\n",
    "\n",
    "This is because a tuple is an immutable object, and its values cannot be changed after assignment. Keep this in mind you're working with tuples and `*args`."
   ]
  },
  {
   "cell_type": "markdown",
   "metadata": {},
   "source": [
    "## Kwargs (Keyword Arguments)\n",
    "\n",
    "Source: [Real python](https://realpython.com/python-kwargs-and-args/)\n",
    "\n",
    "`**kwargs` works just like `*arg`, but instead of accepting positional arguments it accepts keyword (or **named**) arguments. Take the following example:"
   ]
  },
  {
   "cell_type": "code",
   "execution_count": 8,
   "metadata": {},
   "outputs": [
    {
     "name": "stdout",
     "output_type": "stream",
     "text": [
      "RealPythonisGreat!\n"
     ]
    }
   ],
   "source": [
    "def concatenate(**kwargs):\n",
    "    result=\"\"\n",
    "    #iterating over the python kwargs dictionary\n",
    "    for arg in kwargs.values():\n",
    "        result += arg\n",
    "    return result\n",
    "\n",
    "print(concatenate(a=\"Real\", b=\"Python\", c='is', d=\"Great\", e=\"!\"))"
   ]
  },
  {
   "cell_type": "markdown",
   "metadata": {},
   "source": [
    "Like `arg`, `kwargs` is just a name that can be changed to whatever you want. Again, what is important here is the use of the **unpacking operator** (**).\n",
    "\n",
    "So, the previous example could be written like this:"
   ]
  },
  {
   "cell_type": "code",
   "execution_count": 9,
   "metadata": {},
   "outputs": [
    {
     "name": "stdout",
     "output_type": "stream",
     "text": [
      "RealPythonisGreat!\n"
     ]
    }
   ],
   "source": [
    "def concatenate(**words):\n",
    "    result =\"\"\n",
    "    for arg in words.values():\n",
    "        result += arg\n",
    "    return result\n",
    "\n",
    "print(concatenate(a=\"Real\", b=\"Python\", c='is', d=\"Great\", e=\"!\"))"
   ]
  },
  {
   "cell_type": "markdown",
   "metadata": {},
   "source": [
    "Note that in the example above the iterable object is standard `dict`. If you iterate over the dictionary and want to return its values like in the example shown, then you must use `.values()`.\n",
    "\n",
    "In fact if you forget to use this method, you will find yourself iterating through the **keys** of your python kwargs dictionary instead, like in the following example: "
   ]
  },
  {
   "cell_type": "code",
   "execution_count": 10,
   "metadata": {},
   "outputs": [
    {
     "name": "stdout",
     "output_type": "stream",
     "text": [
      "abcde\n"
     ]
    }
   ],
   "source": [
    "def concatenate(**kwargs):\n",
    "    result = \"\"\n",
    "    #iterating over the keys of the python kwargs dictionary\n",
    "    for arg in kwargs:\n",
    "        result += arg\n",
    "    return result\n",
    "\n",
    "print(concatenate(a=\"Real\", b=\"Python\", c='is', d=\"Great\", e=\"!\"))"
   ]
  },
  {
   "cell_type": "markdown",
   "metadata": {},
   "source": [
    "As you can see, if you don't specify your `.values()`, your function will iterate over the keys of your Python `**kwargs` dictionary, returning the wrong results."
   ]
  },
  {
   "cell_type": "markdown",
   "metadata": {},
   "source": [
    "# Empty list []\n",
    "\n",
    "**Source:**\n",
    "\n",
    "- [freecodecamp](https://www.freecodecamp.org/news/python-empty-list-tutorial-how-to-create-an-empty-list-in-python/)\n",
    "- [Geeksforgeeks](https://www.geeksforgeeks.org/declare-an-empty-list-in-python/)"
   ]
  },
  {
   "cell_type": "markdown",
   "metadata": {},
   "source": [
    "## Using Square Brackets\n",
    "You can crate an empty list with an empty pair of square brackets, like this:\n",
    "\n",
    "`<var>=[]`\n",
    "\n",
    "We assign the empty list to a variable to use it later in our program. For example:\n",
    "\n",
    "`num = []`\n",
    "\n",
    "The empty list will have length `0`, as you can see right here:"
   ]
  },
  {
   "cell_type": "code",
   "execution_count": 11,
   "metadata": {},
   "outputs": [
    {
     "data": {
      "text/plain": [
       "0"
      ]
     },
     "execution_count": 11,
     "metadata": {},
     "output_type": "execute_result"
    }
   ],
   "source": [
    "num = []\n",
    "len(num)"
   ]
  },
  {
   "cell_type": "markdown",
   "metadata": {},
   "source": [
    "Empty list are **falsy** values, which means that they evaluate to `false` in a boolean context"
   ]
  },
  {
   "cell_type": "code",
   "execution_count": 12,
   "metadata": {},
   "outputs": [
    {
     "data": {
      "text/plain": [
       "False"
      ]
     },
     "execution_count": 12,
     "metadata": {},
     "output_type": "execute_result"
    }
   ],
   "source": [
    "bool(num)"
   ]
  },
  {
   "cell_type": "markdown",
   "metadata": {},
   "source": [
    "## Adding Elements to an Empty list\n",
    "\n",
    "You can add elements to an empty list using the methods `append()` and `insert()`:\n",
    "\n",
    "- `append()` adds the element to the end of the list.\n",
    "- `insert()` adds the element at the particular index of the list that you choose."
   ]
  },
  {
   "cell_type": "markdown",
   "metadata": {},
   "source": [
    "Since list can be either truthy or falsy values depending on whether they are empty or not when they are evaluated, you can use them in conditionals like this:"
   ]
  },
  {
   "cell_type": "code",
   "execution_count": 13,
   "metadata": {},
   "outputs": [
    {
     "name": "stdout",
     "output_type": "stream",
     "text": [
      "This list is empty\n"
     ]
    }
   ],
   "source": [
    "if num:\n",
    "    print(\"This list is not empty\")\n",
    "else:\n",
    "    print(\"This list is empty\")"
   ]
  },
  {
   "cell_type": "markdown",
   "metadata": {},
   "source": [
    "Because the list was empty, so it evaluetes to False\n",
    "\n",
    "In general:\n",
    "- If the list is not empty, it evaluates to `True`, so the if clause is executed.\n",
    "- If the list is not empty, it evaluates to `False`, so the else clause is executed."
   ]
  },
  {
   "cell_type": "markdown",
   "metadata": {},
   "source": [
    "## Example\n",
    "\n",
    "In the example below, We create an empty list and assign it to the variable `num`. Then, using a for loop, we add a sequence of elements (integers) to the list that was initially empty:"
   ]
  },
  {
   "cell_type": "code",
   "execution_count": 14,
   "metadata": {},
   "outputs": [
    {
     "name": "stdout",
     "output_type": "stream",
     "text": [
      "[3, 5, 7, 9, 11, 13]\n"
     ]
    }
   ],
   "source": [
    "num = []\n",
    "for i in range(3,15,2):\n",
    "    num.append(i)\n",
    "print(num)"
   ]
  },
  {
   "cell_type": "markdown",
   "metadata": {},
   "source": [
    "As you can see, We check the value of the variable using `print(num)` to see if the items were appended successfully and confirm that the list `num` is not empty anymore."
   ]
  },
  {
   "cell_type": "markdown",
   "metadata": {},
   "source": [
    "**Tip:** We commonly use `append()` to add the first element to an empty list, but you can also add this element calling the `insert()` method with index `0`:"
   ]
  },
  {
   "cell_type": "code",
   "execution_count": 15,
   "metadata": {},
   "outputs": [
    {
     "data": {
      "text/plain": [
       "[1.5]"
      ]
     },
     "execution_count": 15,
     "metadata": {},
     "output_type": "execute_result"
    }
   ],
   "source": [
    "num = []\n",
    "num.insert(0, 1.5) # add the float 1.5 at index o\n",
    "num"
   ]
  },
  {
   "cell_type": "markdown",
   "metadata": {},
   "source": [
    "## Using the `list()` Constructor\n",
    "\n",
    "Alternatively, you can create an empty list with the type constructor `list()`, which creates a new list object.\n",
    "\n",
    "According to the [Python Documentation](https://docs.python.org/3/library/stdtypes.html#list):\n",
    "> If no argument is given, the constructor creates a new empty list, [].\n",
    "\n",
    "**Tip**: This creates a new list object in memory and since We didn't pass any arguments to `list()`, an empty list will be created.\n",
    "\n",
    "For example:\n",
    "\n",
    "`num = list()`\n",
    "\n",
    "This empty list will have length `0`, as you can see right here:"
   ]
  },
  {
   "cell_type": "code",
   "execution_count": 16,
   "metadata": {},
   "outputs": [
    {
     "data": {
      "text/plain": [
       "0"
      ]
     },
     "execution_count": 16,
     "metadata": {},
     "output_type": "execute_result"
    }
   ],
   "source": [
    "num =  list()\n",
    "len(num)"
   ]
  },
  {
   "cell_type": "markdown",
   "metadata": {},
   "source": [
    "And it is a **falsy** value when it is empty (it evaluates to `False` in a boolean context):"
   ]
  },
  {
   "cell_type": "code",
   "execution_count": 17,
   "metadata": {},
   "outputs": [
    {
     "data": {
      "text/plain": [
       "False"
      ]
     },
     "execution_count": 17,
     "metadata": {},
     "output_type": "execute_result"
    }
   ],
   "source": [
    "bool(num)"
   ]
  },
  {
   "cell_type": "markdown",
   "metadata": {},
   "source": [
    "### Example"
   ]
  },
  {
   "cell_type": "markdown",
   "metadata": {},
   "source": [
    "This is a fully functional list, so we can add elements to it:"
   ]
  },
  {
   "cell_type": "code",
   "execution_count": 18,
   "metadata": {},
   "outputs": [
    {
     "data": {
      "text/plain": [
       "[3, 5, 7, 9, 11, 13]"
      ]
     },
     "execution_count": 18,
     "metadata": {},
     "output_type": "execute_result"
    }
   ],
   "source": [
    "for i in range(3,15,2):\n",
    "    num.append(i)\n",
    "\n",
    "num"
   ]
  },
  {
   "cell_type": "markdown",
   "metadata": {},
   "source": [
    "As you can see above, the result will be a non-empty list."
   ]
  },
  {
   "cell_type": "markdown",
   "metadata": {},
   "source": [
    "## Use Cases\n",
    "\n",
    "- We typically use `list()` to create list from existing iterables such as strings, dictionaries, or tuples.\n",
    "- You will commonly see square brackets `[]` being used to create empty lists in Python because this syntax is more concise and faster. "
   ]
  },
  {
   "cell_type": "markdown",
   "metadata": {},
   "source": [
    "## Efficiency\n",
    "\n",
    "`[]` is faster than `list()`..."
   ]
  },
  {
   "cell_type": "markdown",
   "metadata": {},
   "source": [
    "**But how much faster?**\n",
    "\n",
    "Let's check their time efficiencies using the [timeit](https://docs.python.org/3/library/timeit.html#module-timeit) module.\n",
    "\n",
    "To use this module in your Python program, you need to import it.\n",
    "\n",
    "Specifically, we will use the [timeit function](https://docs.python.org/3/library/timeit.html#timeit.timeit) from this module, which you can call with this syntax:\n",
    "\n",
    "`timeit.timeit('<code>', numbers=<num_repetitions>)`\n",
    "\n",
    "- `<code>`: Code that you want to test\n",
    "\n",
    "- `<num_repetitions>` :  How many times you want to repeat the code\n",
    "\n",
    "**Tip:** The code is repeated several times to reduce time differences that may arise from external factors such as other processes that might be running at that particular moment. This makes the results more reliable for comparison purposes."
   ]
  },
  {
   "cell_type": "code",
   "execution_count": 19,
   "metadata": {},
   "outputs": [],
   "source": [
    "import timeit"
   ]
  },
  {
   "cell_type": "markdown",
   "metadata": {},
   "source": [
    "We start testing each syntax\n",
    "\n",
    "**Testing `[]`:**"
   ]
  },
  {
   "cell_type": "code",
   "execution_count": 20,
   "metadata": {},
   "outputs": [
    {
     "data": {
      "text/plain": [
       "0.00040210000042861793"
      ]
     },
     "execution_count": 20,
     "metadata": {},
     "output_type": "execute_result"
    }
   ],
   "source": [
    "timeit.timeit('[]',number=10**4)"
   ]
  },
  {
   "cell_type": "markdown",
   "metadata": {},
   "source": [
    "**Testing `list()`:**"
   ]
  },
  {
   "cell_type": "code",
   "execution_count": 21,
   "metadata": {},
   "outputs": [
    {
     "data": {
      "text/plain": [
       "0.0008001999999578402"
      ]
     },
     "execution_count": 21,
     "metadata": {},
     "output_type": "execute_result"
    }
   ],
   "source": [
    "timeit.timeit('list()',number=10**4)"
   ]
  },
  {
   "cell_type": "markdown",
   "metadata": {},
   "source": [
    "You can see that `[]` is much faster than `list()`. There was difference of approximately `0.0002` seconds in this test:"
   ]
  },
  {
   "cell_type": "markdown",
   "metadata": {},
   "source": [
    "**Why is `list()` less eficient than `[]` if they do exactly the same thing?**\n",
    "\n",
    "Well.. `list()` is slower because it requires looking up the name of the function, calling it, and then creating the list object in memory. In contrast, `[]` is like a \"shortcut\" that doesn't require so many intermediate steps to create the list in memory."
   ]
  },
  {
   "cell_type": "markdown",
   "metadata": {},
   "source": [
    "# Boolean Indexing\n",
    "\n",
    "- [Copilot Answers 1](../TE%20Transport%20Calculation/TiS/Bands/CopilotAnswers-20240405-211041.pdf)\n",
    "- [Copilot Answers 2](../TE%20Transport%20Calculation/TiS/Bands/CopilotAnswers-20240405-211355.pdf)\n",
    "- [NumPy Documentation](https://numpy.org/doc/stable/user/basics.indexing.html#boolean-array-indexing)\n",
    "- [Programriz](https://www.programiz.com/python-programming/numpy/boolean-indexing)\n",
    "- [Google search on Stackexchange](https://www.google.com/search?q=Conditional+indexing+operation+python+site:stackoverflow.com&sca_esv=ebc234f9216407d8&sxsrf=ACQVn09LQpbpbXzJRaUIXCgN-Vpa_a5zXQ:1712326020273&sa=X&ved=2ahUKEwj26bXBn6uFAxXKyDgGHY4FAwIQrQIoBHoECB4QBQ&biw=1272&bih=598&dpr=1.5)\n"
   ]
  },
  {
   "cell_type": "markdown",
   "metadata": {},
   "source": [
    "# NumPy Joining Array\n",
    "- [W3school](https://www.w3schools.com/python/numpy/numpy_array_join.asp)\n",
    "- [Numpy Documentation](https://numpy.org/doc/stable/reference/generated/numpy.concatenate.html) (`np.concatenate`)\n",
    "\n",
    "## Joining NumPy Arrays\n",
    "\n",
    "Joining means putting contents of two or more arrays in a single array.\n",
    "\n",
    "We pass a sequence of arrays that we want to join to the `concatenate` function, along with the axis. If the axis is not explicitly passed, it is taken as 0:"
   ]
  },
  {
   "cell_type": "markdown",
   "metadata": {},
   "source": [
    "**Join two arrays**"
   ]
  },
  {
   "cell_type": "code",
   "execution_count": 22,
   "metadata": {},
   "outputs": [
    {
     "name": "stdout",
     "output_type": "stream",
     "text": [
      "[1 2 3 4 5 6]\n"
     ]
    }
   ],
   "source": [
    "arr1 = np.array([1,2,3])\n",
    "\n",
    "arr2 = np.array([4,5,6])\n",
    "\n",
    "arr  = np.concatenate((arr1,arr2))\n",
    "\n",
    "print(arr)"
   ]
  },
  {
   "cell_type": "markdown",
   "metadata": {},
   "source": [
    "**Join two 2-D arrays along rows (axis =1):**"
   ]
  },
  {
   "cell_type": "code",
   "execution_count": 23,
   "metadata": {},
   "outputs": [
    {
     "name": "stdout",
     "output_type": "stream",
     "text": [
      "[[1 2 5 6]\n",
      " [3 4 7 8]]\n"
     ]
    }
   ],
   "source": [
    "arr1 = np.array([[1,2],[3,4]])\n",
    "arr2 = np.array([[5,6],[7,8]])\n",
    "arr  = np.concatenate((arr1,arr2),axis=1) \n",
    "print(arr)"
   ]
  },
  {
   "cell_type": "markdown",
   "metadata": {},
   "source": [
    "## Joining Arrays Using Stack Functions"
   ]
  },
  {
   "cell_type": "markdown",
   "metadata": {},
   "source": [
    "Stacking is same as concatenation, the only difference is that stacking is done along with a new axis.\n",
    "\n",
    "We can concatenate two 1-D arrays along the second axis which would result in putting them one over the other, i.e. stacking.\n",
    "\n",
    "We pass a sequence of arrays that we want to join to the `stack()` method along with the axis. If axis is not explicitly passed it is taken as 0:"
   ]
  },
  {
   "cell_type": "code",
   "execution_count": 24,
   "metadata": {},
   "outputs": [
    {
     "name": "stdout",
     "output_type": "stream",
     "text": [
      "[[1 4]\n",
      " [2 5]\n",
      " [3 6]]\n"
     ]
    }
   ],
   "source": [
    "arr1 = np.array([1,2,3])\n",
    "\n",
    "arr2 = np.array([4,5,6])\n",
    "\n",
    "arr  = np.stack((arr1,arr2),axis=1)\n",
    "\n",
    "print(arr)"
   ]
  },
  {
   "cell_type": "markdown",
   "metadata": {},
   "source": [
    "**Stacking Along Rows**\n",
    "\n",
    "NumPy provides a helper function: `hstack` to stack along rows"
   ]
  },
  {
   "cell_type": "code",
   "execution_count": 25,
   "metadata": {},
   "outputs": [
    {
     "name": "stdout",
     "output_type": "stream",
     "text": [
      "[1 2 3 4 5 6]\n"
     ]
    }
   ],
   "source": [
    "arr = np.hstack((arr1,arr2))\n",
    "print(arr)"
   ]
  },
  {
   "cell_type": "markdown",
   "metadata": {},
   "source": [
    "**Stacking Along Columns**\n",
    "\n",
    "NumPy provides a helper function: `vstack()` to stack along columns"
   ]
  },
  {
   "cell_type": "code",
   "execution_count": 26,
   "metadata": {},
   "outputs": [
    {
     "name": "stdout",
     "output_type": "stream",
     "text": [
      "[[1 2 3]\n",
      " [4 5 6]]\n"
     ]
    }
   ],
   "source": [
    "arr = np.vstack((arr1,arr2))\n",
    "print(arr)"
   ]
  },
  {
   "cell_type": "markdown",
   "metadata": {},
   "source": [
    "**Stacking Along Height (depth)**\n",
    "\n",
    "Numpy provides a helper function: `dstack` to stack along height which is the same as depth."
   ]
  },
  {
   "cell_type": "code",
   "execution_count": 27,
   "metadata": {},
   "outputs": [
    {
     "name": "stdout",
     "output_type": "stream",
     "text": [
      "[[[1 4]\n",
      "  [2 5]\n",
      "  [3 6]]]\n"
     ]
    }
   ],
   "source": [
    "arr = np.dstack((arr1,arr2))\n",
    "print(arr)"
   ]
  },
  {
   "cell_type": "markdown",
   "metadata": {},
   "source": [
    "# Finding the last element of NumPy Array\n",
    "\n",
    "- [Finxter blog](https://blog.finxter.com/5-best-ways-to-access-the-last-element-of-a-python-numpy-array/)\n",
    "\n",
    "- [GiS Stack Exchange answers](https://gis.stackexchange.com/questions/102219/print-last-digit-in-numpy-array)\n",
    "\n",
    "- [W3school1](https://www.tutorialspoint.com/how-to-select-elements-from-numpy-array-in-python)\n",
    "\n",
    "- [W3school2](https://www.tutorialspoint.com/How-to-get-the-last-element-of-a-list-in-Python)\n",
    "\n",
    "- [Numpy Documentation](https://numpy.org/devdocs/user/absolute_beginners.html)"
   ]
  },
  {
   "cell_type": "markdown",
   "metadata": {},
   "source": [
    "## Method 1: Using Negative Indexing\n",
    "\n",
    "Negative indexing allows us to count from the end of the array. In NumPy, `array[-1]` will return the last element of the array. "
   ]
  },
  {
   "cell_type": "code",
   "execution_count": 28,
   "metadata": {},
   "outputs": [
    {
     "name": "stdout",
     "output_type": "stream",
     "text": [
      "5\n"
     ]
    },
    {
     "data": {
      "text/plain": [
       "numpy.int32"
      ]
     },
     "execution_count": 28,
     "metadata": {},
     "output_type": "execute_result"
    }
   ],
   "source": [
    "# Create a NumPy array\n",
    "arr = np.array([1,2,3,4,5])\n",
    "\n",
    "# Access the last element\n",
    "last_element = arr[-1]\n",
    "print(last_element)\n",
    "type(last_element)"
   ]
  },
  {
   "cell_type": "markdown",
   "metadata": {},
   "source": [
    "## Method 2: Using the `item` Method\n",
    "\n",
    "The `item()` method in NumPy can be used to retrieve a specific element from an array. By passing `-1` as the argument, it retrieves the last element. This method is beneficial when you require the native Python scalar type instead of NumPy type."
   ]
  },
  {
   "cell_type": "code",
   "execution_count": 29,
   "metadata": {},
   "outputs": [
    {
     "name": "stdout",
     "output_type": "stream",
     "text": [
      "5\n"
     ]
    },
    {
     "data": {
      "text/plain": [
       "int"
      ]
     },
     "execution_count": 29,
     "metadata": {},
     "output_type": "execute_result"
    }
   ],
   "source": [
    "# Access the last element as a native Python type\n",
    "last_element = arr.item(-1)\n",
    "print(last_element)\n",
    "type(last_element)"
   ]
  },
  {
   "cell_type": "markdown",
   "metadata": {},
   "source": [
    "## Method 3: Using the `take` function\n",
    "\n",
    "The `take()` is a flexible way to access elements of a NumPy array by specifying the indices. To retrieve the last element you can pass `-1` as the index to the `take()` function."
   ]
  },
  {
   "cell_type": "code",
   "execution_count": 30,
   "metadata": {},
   "outputs": [
    {
     "name": "stdout",
     "output_type": "stream",
     "text": [
      "5\n"
     ]
    },
    {
     "data": {
      "text/plain": [
       "numpy.int32"
      ]
     },
     "execution_count": 30,
     "metadata": {},
     "output_type": "execute_result"
    }
   ],
   "source": [
    "last_element =  np.take(arr,-1)\n",
    "print(last_element)\n",
    "type(last_element)"
   ]
  },
  {
   "cell_type": "markdown",
   "metadata": {},
   "source": [
    "## Method 4: Using the `index` Function with `shape`\n",
    "\n",
    "Another way to access the last element of a NumPy array is to use the array's shape to calculate the index of the last element. The `shape` attribute returns a tuple that represents the size of each dimension of the array. You can use this compute the index of the last element."
   ]
  },
  {
   "cell_type": "code",
   "execution_count": 31,
   "metadata": {},
   "outputs": [
    {
     "name": "stdout",
     "output_type": "stream",
     "text": [
      "5\n",
      "5\n"
     ]
    },
    {
     "data": {
      "text/plain": [
       "numpy.int32"
      ]
     },
     "execution_count": 31,
     "metadata": {},
     "output_type": "execute_result"
    }
   ],
   "source": [
    "#Calculate the index of the last element\n",
    "last_index = arr.shape[0]-1\n",
    "\n",
    "#Access the last element\n",
    "print(arr.shape[0])\n",
    "last_element = arr[last_index]\n",
    "print(last_element)\n",
    "type(last_element)"
   ]
  },
  {
   "cell_type": "markdown",
   "metadata": {},
   "source": [
    "## Method 5: Using the `flat` Attribute (One-Liner)\n",
    "\n",
    "The `flat` attributes provides a 1-D iterator over the array. We can combine this with the `[-1]` index to get the last element in a clean one-liner. "
   ]
  },
  {
   "cell_type": "code",
   "execution_count": 32,
   "metadata": {},
   "outputs": [
    {
     "name": "stdout",
     "output_type": "stream",
     "text": [
      "5\n"
     ]
    },
    {
     "data": {
      "text/plain": [
       "numpy.int32"
      ]
     },
     "execution_count": 32,
     "metadata": {},
     "output_type": "execute_result"
    }
   ],
   "source": [
    "# Access the last element using the `flat` attribute\n",
    "last_element = arr.flat[-1]\n",
    "print(last_element)\n",
    "type(last_element)"
   ]
  },
  {
   "cell_type": "markdown",
   "metadata": {},
   "source": [
    "# Type Hinting\n",
    "**Sources:**\n",
    "- [Real Python](https://realpython.com/lessons/type-hinting/)\n",
    "- [Stack Exchange](https://stackoverflow.com/questions/21930035/how-to-write-help-description-text-for-python-functions) \n",
    "\n",
    "**Type hinting** is a formal solution to statically indicate the type of a value within your Python code.\n",
    "\n",
    "Here is an example of adding type information to a function. You annotate the arguments and the return value:"
   ]
  },
  {
   "cell_type": "code",
   "execution_count": 33,
   "metadata": {},
   "outputs": [
    {
     "name": "stdout",
     "output_type": "stream",
     "text": [
      "Hello, norman\n"
     ]
    }
   ],
   "source": [
    "def greet(name:str) -> str:\n",
    "    return \"Hello, \" + name\n",
    "\n",
    "print(greet(\"norman\"))"
   ]
  },
  {
   "cell_type": "markdown",
   "metadata": {},
   "source": [
    "The `name: str` syntax indicates the `name` argument should be of type `str`. The `->` syntax indicates the `greet()` will return a string."
   ]
  },
  {
   "cell_type": "markdown",
   "metadata": {},
   "source": [
    "The following example function turns a text string into a headline by adding proper capitalization and a decorative line:"
   ]
  },
  {
   "cell_type": "code",
   "execution_count": 34,
   "metadata": {},
   "outputs": [
    {
     "name": "stdout",
     "output_type": "stream",
     "text": [
      "Python Type Checking\n",
      "--------------------\n",
      "oooooooooooooo Python Type Checking oooooooooooooo\n"
     ]
    }
   ],
   "source": [
    "def headline(text, align=True):\n",
    "    if align:\n",
    "        return f\"{text.title()}\\n{'-'*len(text)}\"\n",
    "    else:\n",
    "        return f\" {text.title()} \".center(50, \"o\")\n",
    "    \n",
    "print(headline(\"Python type checking\"))\n",
    "print(headline(\"python type checking\", align=False))"
   ]
  },
  {
   "cell_type": "markdown",
   "metadata": {},
   "source": [
    "Now add type hints by annotating the arguments and the return value as follows"
   ]
  },
  {
   "cell_type": "code",
   "execution_count": 35,
   "metadata": {},
   "outputs": [
    {
     "name": "stdout",
     "output_type": "stream",
     "text": [
      "Help on function headline in module __main__:\n",
      "\n",
      "headline(text: str, align: bool = True) -> str\n",
      "\n"
     ]
    }
   ],
   "source": [
    "def headline(text:str, align: bool=True) -> str:\n",
    "    if align:\n",
    "        return f\"{text.title()}\\n{'-'*len(text)}\"\n",
    "    else:\n",
    "        return f\" {text.title()} \".center(50, \"o\")\n",
    "    \n",
    "help(headline)"
   ]
  },
  {
   "cell_type": "markdown",
   "metadata": {},
   "source": [
    "# Mr. P Solver Tips\n",
    "Link: [OneNote Page](https://onedrive.live.com/view.aspx?resid=9FF0E855772065F5%211062&id=documents&wd=target%28Work%20Notebook%27s%20Backup%2FPython%20Drill.one%7C47627FDD-3176-456E-A8E8-87569F44B05A%2FThe%20Full%20Python%20Tutorial%7C89ECC2F1-CF74-4760-B2B2-1BBE8094EDFF%2F%29)"
   ]
  },
  {
   "cell_type": "markdown",
   "metadata": {},
   "source": [
    "## Variables"
   ]
  },
  {
   "cell_type": "code",
   "execution_count": 40,
   "metadata": {},
   "outputs": [
    {
     "name": "stdout",
     "output_type": "stream",
     "text": [
      "cast\n",
      "I am 25.45 years old\n",
      "I am 25 years old\n"
     ]
    }
   ],
   "source": [
    "x1 = 'ca{}t'.format('s')\n",
    "print(x1)\n",
    "\n",
    "age  = 25.453386632646\n",
    "x2 = 'I am {:.2f} years old'.format(age)\n",
    "print(x2)\n",
    "x3 = 'I am {:.0f} years old'.format(age)\n",
    "print(x3)"
   ]
  },
  {
   "cell_type": "markdown",
   "metadata": {},
   "source": [
    "# Docstring\n",
    "\n",
    "- [Stack Exchange](https://stackoverflow.com/questions/21930035/how-to-write-help-description-text-for-python-functions)"
   ]
  },
  {
   "cell_type": "markdown",
   "metadata": {},
   "source": [
    "# `type()` Built-in Function\n",
    "\n",
    "Source\n",
    "- [Stack Exchange Answers](https://stackoverflow.com/questions/402504/how-to-determine-a-python-variables-type)"
   ]
  },
  {
   "cell_type": "markdown",
   "metadata": {},
   "source": [
    "# Python NOT EQUAL Operator\n",
    "\n",
    "Source:\n",
    "[geeksforgeeks](https://www.geeksforgeeks.org/python-not-equal-operator/)"
   ]
  }
 ],
 "metadata": {
  "kernelspec": {
   "display_name": "Python 3",
   "language": "python",
   "name": "python3"
  },
  "language_info": {
   "codemirror_mode": {
    "name": "ipython",
    "version": 3
   },
   "file_extension": ".py",
   "mimetype": "text/x-python",
   "name": "python",
   "nbconvert_exporter": "python",
   "pygments_lexer": "ipython3",
   "version": "3.11.9"
  }
 },
 "nbformat": 4,
 "nbformat_minor": 2
}
