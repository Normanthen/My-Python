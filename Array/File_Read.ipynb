{
 "cells": [
  {
   "cell_type": "code",
   "execution_count": 1,
   "metadata": {},
   "outputs": [
    {
     "name": "stdout",
     "output_type": "stream",
     "text": [
      "['Name    Age    City']\n",
      "['John    25     New York']\n",
      "['Alice   30     San Francisco']\n",
      "['Bob     28     Los Angeles']\n"
     ]
    }
   ],
   "source": [
    "import csv\n",
    "\n",
    "# Specify the path to your CSV file\n",
    "csv_file_path = 'your_file.csv'\n",
    "\n",
    "# Open the CSV file using the 'with' statement to ensure proper file closure\n",
    "with open(csv_file_path, 'r', newline='', encoding='utf-8') as file:\n",
    "    # Create a CSV reader object with tab delimiter\n",
    "    csv_reader = csv.reader(file, delimiter='\\t')\n",
    "\n",
    "    # Iterate through the rows in the CSV file\n",
    "    for row in csv_reader:\n",
    "        # Process each row as needed\n",
    "        print(row)\n"
   ]
  },
  {
   "cell_type": "code",
   "execution_count": 3,
   "metadata": {},
   "outputs": [
    {
     "name": "stdout",
     "output_type": "stream",
     "text": [
      "Columns: ['Name    Age    City']\n",
      "Name    Age    City: John    25     New York\n",
      "\n",
      "\n",
      "Name    Age    City: Alice   30     San Francisco\n",
      "\n",
      "\n",
      "Name    Age    City: Bob     28     Los Angeles\n",
      "\n",
      "\n"
     ]
    }
   ],
   "source": [
    "import csv\n",
    "\n",
    "# Specify the path to your CSV file\n",
    "csv_file_path = 'your_file.csv'\n",
    "\n",
    "# Open the CSV file using the 'with' statement to ensure proper file closure\n",
    "with open(csv_file_path, 'r', newline='', encoding='utf-8') as file:\n",
    "    # Create a CSV reader object with tab delimiter\n",
    "    csv_reader = csv.reader(file, delimiter='\\t')\n",
    "\n",
    "    # Read the header row to get column names\n",
    "    headers = next(csv_reader)\n",
    "    \n",
    "    # Print column names\n",
    "    print(\"Columns:\", headers)\n",
    "\n",
    "    # Iterate through the rows in the CSV file\n",
    "    for row in csv_reader:\n",
    "        # Iterate through each column in the row\n",
    "        for col_num, value in enumerate(row):\n",
    "            # Print the column name and its corresponding value\n",
    "            print(f\"{headers[col_num]}: {value}\")\n",
    "\n",
    "        # Add a line break between rows\n",
    "        print(\"\\n\")\n"
   ]
  }
 ],
 "metadata": {
  "kernelspec": {
   "display_name": "Python 3",
   "language": "python",
   "name": "python3"
  },
  "language_info": {
   "codemirror_mode": {
    "name": "ipython",
    "version": 3
   },
   "file_extension": ".py",
   "mimetype": "text/x-python",
   "name": "python",
   "nbconvert_exporter": "python",
   "pygments_lexer": "ipython3",
   "version": "3.11.6"
  }
 },
 "nbformat": 4,
 "nbformat_minor": 2
}
