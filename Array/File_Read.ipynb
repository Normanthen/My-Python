{
 "cells": [
  {
   "cell_type": "code",
   "execution_count": 1,
   "metadata": {},
   "outputs": [
    {
     "name": "stdout",
     "output_type": "stream",
     "text": [
      "['Name    Age    City']\n",
      "['John    25     New York']\n",
      "['Alice   30     San Francisco']\n",
      "['Bob     28     Los Angeles']\n"
     ]
    }
   ],
   "source": [
    "import csv\n",
    "\n",
    "# Specify the path to your CSV file\n",
    "csv_file_path = 'your_file.csv'\n",
    "\n",
    "# Open the CSV file using the 'with' statement to ensure proper file closure\n",
    "with open(csv_file_path, 'r', newline='', encoding='utf-8') as file:\n",
    "    # Create a CSV reader object with tab delimiter\n",
    "    csv_reader = csv.reader(file, delimiter='\\t')\n",
    "\n",
    "    # Iterate through the rows in the CSV file\n",
    "    for row in csv_reader:\n",
    "        # Process each row as needed\n",
    "        print(row)\n"
   ]
  }
 ],
 "metadata": {
  "kernelspec": {
   "display_name": "Python 3",
   "language": "python",
   "name": "python3"
  },
  "language_info": {
   "codemirror_mode": {
    "name": "ipython",
    "version": 3
   },
   "file_extension": ".py",
   "mimetype": "text/x-python",
   "name": "python",
   "nbconvert_exporter": "python",
   "pygments_lexer": "ipython3",
   "version": "3.11.6"
  }
 },
 "nbformat": 4,
 "nbformat_minor": 2
}
