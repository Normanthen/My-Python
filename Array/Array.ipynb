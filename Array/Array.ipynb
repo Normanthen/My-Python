{
 "cells": [
  {
   "cell_type": "code",
   "execution_count": 4,
   "metadata": {},
   "outputs": [
    {
     "name": "stdout",
     "output_type": "stream",
     "text": [
      "The array has been saved to output.txt\n"
     ]
    }
   ],
   "source": [
    "import numpy as np\n",
    "\n",
    "# Create a NumPy array of floating-point numbers\n",
    "float_array = np.array([[1.234, 2.567], [3.890, 4.321]])\n",
    "\n",
    "# Specify the file name and format (e.g., CSV)\n",
    "file_name = 'output.txt'\n",
    "\n",
    "# Save the array to a text file with a specific format and precision\n",
    "np.savetxt(file_name, float_array, fmt='%.3f', delimiter=', ')\n",
    "\n",
    "# Print a message indicating that the array has been saved\n",
    "print(f\"The array has been saved to {file_name}\")\n"
   ]
  },
  {
   "cell_type": "code",
   "execution_count": 5,
   "metadata": {},
   "outputs": [
    {
     "name": "stdout",
     "output_type": "stream",
     "text": [
      "The array has been saved to output.txt\n"
     ]
    }
   ],
   "source": [
    "import numpy as np\n",
    "\n",
    "# Create a 3D NumPy array of floating-point numbers\n",
    "array3D = np.array([[[1.234, 2.567], [3.890, 4.321]],\n",
    "                    [[5.432, 6.789], [7.654, 8.901]]])\n",
    "\n",
    "# Reshape the 3D array to a 2D array\n",
    "array2D = array3D.reshape(-1, array3D.shape[-1])\n",
    "\n",
    "# Specify the file name and format (e.g., CSV)\n",
    "file_name = 'output.txt'\n",
    "\n",
    "# Save the reshaped 2D array to a text file with a specific format and precision\n",
    "np.savetxt(file_name, array2D, fmt='%.3f', delimiter=', ')\n",
    "\n",
    "# Print a message indicating that the array has been saved\n",
    "print(f\"The array has been saved to {file_name}\")\n"
   ]
  },
  {
   "cell_type": "code",
   "execution_count": 6,
   "metadata": {},
   "outputs": [
    {
     "name": "stdout",
     "output_type": "stream",
     "text": [
      "The arrays have been saved to output1.txt\n"
     ]
    }
   ],
   "source": [
    "import numpy as np\n",
    "\n",
    "# Create two 3D NumPy arrays of floating-point numbers\n",
    "array3D_1 = np.array([[[1.234, 2.567], [3.890, 4.321]],\n",
    "                      [[5.432, 6.789], [7.654, 8.901]]])\n",
    "\n",
    "array3D_2 = np.array([[[9.876, 10.543], [11.234, 12.567]],\n",
    "                      [[13.890, 14.321], [15.432, 16.789]]])\n",
    "\n",
    "# Reshape the 3D arrays to 2D arrays\n",
    "array2D_1 = array3D_1.reshape(-1, array3D_1.shape[-1])\n",
    "array2D_2 = array3D_2.reshape(-1, array3D_2.shape[-1])\n",
    "\n",
    "# Concatenate the 2D arrays along a specified axis (e.g., axis=0 for stacking vertically)\n",
    "combined_array = np.concatenate((array2D_1, array2D_2), axis=0)\n",
    "\n",
    "# Specify the file name and format (e.g., CSV)\n",
    "file_name = 'output1.txt'\n",
    "\n",
    "# Save the combined 2D array to a text file with a specific format and precision\n",
    "np.savetxt(file_name, combined_array, fmt='%.3f', delimiter=', ')\n",
    "\n",
    "# Print a message indicating that the arrays have been saved\n",
    "print(f\"The arrays have been saved to {file_name}\")\n"
   ]
  }
 ],
 "metadata": {
  "kernelspec": {
   "display_name": "Python 3",
   "language": "python",
   "name": "python3"
  },
  "language_info": {
   "codemirror_mode": {
    "name": "ipython",
    "version": 3
   },
   "file_extension": ".py",
   "mimetype": "text/x-python",
   "name": "python",
   "nbconvert_exporter": "python",
   "pygments_lexer": "ipython3",
   "version": "3.11.6"
  }
 },
 "nbformat": 4,
 "nbformat_minor": 2
}
