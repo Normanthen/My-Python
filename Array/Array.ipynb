{
 "cells": [
  {
   "cell_type": "code",
   "execution_count": 1,
   "metadata": {},
   "outputs": [
    {
     "name": "stdout",
     "output_type": "stream",
     "text": [
      "The array has been saved to output.txt\n"
     ]
    }
   ],
   "source": [
    "import numpy as np\n",
    "\n",
    "# Create a NumPy array of floating-point numbers\n",
    "float_array = np.array([[1.234, 2.567], [3.890, 4.321]])\n",
    "\n",
    "# Specify the file name and format (e.g., CSV)\n",
    "file_name = 'output.txt'\n",
    "\n",
    "# Save the array to a text file with a specific format and precision\n",
    "np.savetxt(file_name, float_array, fmt='%.3f', delimiter=', ')\n",
    "\n",
    "# Print a message indicating that the array has been saved\n",
    "print(f\"The array has been saved to {file_name}\")\n"
   ]
  }
 ],
 "metadata": {
  "kernelspec": {
   "display_name": "Python 3",
   "language": "python",
   "name": "python3"
  },
  "language_info": {
   "codemirror_mode": {
    "name": "ipython",
    "version": 3
   },
   "file_extension": ".py",
   "mimetype": "text/x-python",
   "name": "python",
   "nbconvert_exporter": "python",
   "pygments_lexer": "ipython3",
   "version": "3.11.6"
  }
 },
 "nbformat": 4,
 "nbformat_minor": 2
}
