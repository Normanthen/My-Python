{
 "cells": [
  {
   "cell_type": "code",
   "execution_count": 3,
   "metadata": {},
   "outputs": [
    {
     "name": "stdout",
     "output_type": "stream",
     "text": [
      "Array from column1:\n",
      "0       [1, 2, 3]\n",
      "1    [10, 11, 12]\n",
      "2    [19, 20, 21]\n",
      "Name: column1, dtype: object\n",
      "\n",
      "Array from column2:\n",
      "0       [4, 5, 6]\n",
      "1    [13, 14, 15]\n",
      "2    [22, 23, 24]\n",
      "Name: column2, dtype: object\n",
      "\n",
      "Array from column3:\n",
      "0       [7, 8, 9]\n",
      "1    [16, 17, 18]\n",
      "2    [25, 26, 27]\n",
      "Name: column3, dtype: object\n"
     ]
    }
   ],
   "source": [
    "import pandas as pd\n",
    "import ast\n",
    "\n",
    "# Read CSV file into a DataFrame\n",
    "df = pd.read_csv('example.csv', converters={'column1': ast.literal_eval, 'column2': ast.literal_eval, 'column3': ast.literal_eval})\n",
    "\n",
    "# Access the columns with arrays\n",
    "array_column1 = df['column1']\n",
    "array_column2 = df['column2']\n",
    "array_column3 = df['column3']\n",
    "\n",
    "# Display the arrays\n",
    "print(\"Array from column1:\")\n",
    "print(array_column1)\n",
    "\n",
    "print(\"\\nArray from column2:\")\n",
    "print(array_column2)\n",
    "\n",
    "print(\"\\nArray from column3:\")\n",
    "print(array_column3)\n"
   ]
  }
 ],
 "metadata": {
  "kernelspec": {
   "display_name": "Python 3",
   "language": "python",
   "name": "python3"
  },
  "language_info": {
   "codemirror_mode": {
    "name": "ipython",
    "version": 3
   },
   "file_extension": ".py",
   "mimetype": "text/x-python",
   "name": "python",
   "nbconvert_exporter": "python",
   "pygments_lexer": "ipython3",
   "version": "3.11.6"
  }
 },
 "nbformat": 4,
 "nbformat_minor": 2
}
