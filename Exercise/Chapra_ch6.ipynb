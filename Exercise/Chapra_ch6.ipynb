{
 "cells": [
  {
   "cell_type": "markdown",
   "metadata": {},
   "source": [
    "# Absolute Error\n",
    "\n",
    "$$\n",
    "    \\left|\\frac{x_{i+1}-x_{1}}{x_{i+1}} \\right| 100\\%\n",
    "$$"
   ]
  },
  {
   "cell_type": "markdown",
   "metadata": {},
   "source": [
    "# Netwon - Raphson Method\n",
    "$$\n",
    "    x_{i+1} = x_{i} - \\frac{f(x_{i})}{f'(x_{i})}\n",
    "$$"
   ]
  },
  {
   "cell_type": "code",
   "execution_count": 70,
   "metadata": {},
   "outputs": [],
   "source": [
    "def newtraph(f, fp, x0, Ea = 1.e-7, maxit = 30):\n",
    "    \"\"\"\n",
    "    This function solves f(x)=0 using the Newton-Raphson method.\n",
    "    The method is repeated until either the relative error\n",
    "    falls below Ea (default 1.e−7) or reaches maxit (default 30).\n",
    "    Input:\n",
    "      f = name of the function for f(x)\n",
    "      fp = name of the function for f'(x)\n",
    "      x0 = initial guess for x\n",
    "      Ea = relative error threshold\n",
    "      maxit = maximum number of iterations\n",
    "    Output:\n",
    "      x1 = solution estimate\n",
    "      f(x1) = equation error at solution estimate\n",
    "      ea = relative error\n",
    "      i+1 = number of iterations\n",
    "   \"\"\"\n",
    "    for i in range(maxit):\n",
    "        x1 = x0 - (f(x0)/fp(x0))\n",
    "        ea = abs((x1-x0)/x1)\n",
    "        if ea < Ea: break\n",
    "        x0 = x1\n",
    "        \n",
    "    return x1, f(x1), ea, i+1"
   ]
  },
  {
   "cell_type": "markdown",
   "metadata": {},
   "source": [
    "Example:\n",
    "\n",
    "$$\n",
    "    f(x) = x^{2} - 9,\n",
    "$$\n",
    "\n",
    "\n",
    "$$\n",
    "    f'(x) = 2x.\n",
    "$$\n",
    "\n",
    "We use $x_{0} = 5$ as initial guess"
   ]
  },
  {
   "cell_type": "code",
   "execution_count": 71,
   "metadata": {},
   "outputs": [
    {
     "name": "stdout",
     "output_type": "stream",
     "text": [
      "Solution =        3\n",
      "Function value at solution = 0.00000e+00\n",
      "Relative error = 4.657e-10\n",
      "Number of iterations =     5\n"
     ]
    }
   ],
   "source": [
    "def fx(x):\n",
    "    return x**2-9\n",
    "\n",
    "def dfx(x):\n",
    "    return 2*x\n",
    "\n",
    "x0 = 5\n",
    "\n",
    "xsoln, fxsoln, ea, iter = newtraph(fx, dfx, x0, Ea = 1.e-5)\n",
    "print('Solution = {0:8.5g}'.format(xsoln))\n",
    "print('Function value at solution = {0:8.5e}'.format(fxsoln))\n",
    "print('Relative error = {0:8.3e}'.format(ea))\n",
    "print('Number of iterations = {0:5d}'.format(iter))"
   ]
  },
  {
   "cell_type": "markdown",
   "metadata": {},
   "source": [
    "# Secant Method\n",
    "\n",
    "$$\n",
    "    x_{i+1} = x_{i} - \\frac{f(x_{i})(x_{i}-x_{i-1})}{f(x_{i})-f(x_{i-1})}\n",
    "$$"
   ]
  },
  {
   "cell_type": "code",
   "execution_count": 72,
   "metadata": {},
   "outputs": [
    {
     "name": "stdout",
     "output_type": "stream",
     "text": [
      "Solution =        3\n",
      "Function value at solution = 3.43323e-05\n",
      "Relative error = 5.722e-06\n",
      "Number of iterations =    18\n"
     ]
    }
   ],
   "source": [
    "def SecMeth(f, xu, xl, Ea = 1.e-7, maxit = 30):\n",
    "\n",
    "    for i in range(maxit):\n",
    "          xsol = xu - (f(xu)*(xu-xl)/(f(xu)-f(xl)))\n",
    "          ea = abs((xsol-xu)/xu)\n",
    "          if ea < Ea: break\n",
    "          xu = xsol\n",
    "\n",
    "    return xsol, f(xsol), ea, i+1\n",
    "\n",
    "xu = 5\n",
    "xl = 1\n",
    "\n",
    "xsoln, fxsoln, ea, iter = SecMeth(fx, xu, xl, Ea = 1.e-5)\n",
    "print('Solution = {0:8.5g}'.format(xsoln))\n",
    "print('Function value at solution = {0:8.5e}'.format(fxsoln))\n",
    "print('Relative error = {0:8.3e}'.format(ea))\n",
    "print('Number of iterations = {0:5d}'.format(iter))\n",
    "\n",
    "#Testing\n",
    "\n"
   ]
  }
 ],
 "metadata": {
  "kernelspec": {
   "display_name": "Python 3",
   "language": "python",
   "name": "python3"
  },
  "language_info": {
   "codemirror_mode": {
    "name": "ipython",
    "version": 3
   },
   "file_extension": ".py",
   "mimetype": "text/x-python",
   "name": "python",
   "nbconvert_exporter": "python",
   "pygments_lexer": "ipython3",
   "version": "3.11.9"
  }
 },
 "nbformat": 4,
 "nbformat_minor": 2
}
