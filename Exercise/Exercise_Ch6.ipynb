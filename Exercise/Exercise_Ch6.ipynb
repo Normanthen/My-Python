{
 "cells": [
  {
   "cell_type": "markdown",
   "metadata": {},
   "source": [
    "# Problem 6.2\n",
    "\n",
    "Use (a) fixed-point iteration and (b) the Newton-Rhapson method to determine a root of\n",
    "\n",
    "$$\n",
    "    f(x) = -0.9x^{2} +1.7x + 2.5\n",
    "$$\n",
    "\n",
    "using x0 = 5. perform the calculation until  $\\varepsilon_{a} \\leq 0.01%$. Also, check your final answer\n"
   ]
  },
  {
   "cell_type": "code",
   "execution_count": 22,
   "metadata": {},
   "outputs": [
    {
     "name": "stdout",
     "output_type": "stream",
     "text": [
      "Solution =   2.8601\n",
      "Function value at solution = -7.19425e-14\n",
      "Relative error = 9.914e-08\n",
      "Number of iterations =     5\n"
     ]
    }
   ],
   "source": [
    "#Using Newton-Raphson Method\n",
    "def NewtTraph(f, fp, x0, Ea = 1.e-4, maxit = 30):\n",
    "    for i in range(maxit):\n",
    "        x1 = x0 - (f(x0)/fp(x0))\n",
    "        ea = abs((x1-x0)/x1)\n",
    "        if ea <= Ea: break\n",
    "        x0 = x1\n",
    "    \n",
    "    return x1, f(x1), ea, i+1\n",
    "\n",
    "def fx(x):\n",
    "    return -0.9*x**2+ 1.7*x+2.5\n",
    "\n",
    "def dfx(x):\n",
    "    return -1.8*x+1.7\n",
    "\n",
    "x0 = 5\n",
    "xsoln, fxsoln, ea, iter = NewtTraph(fx, dfx, x0, Ea = 1.e-5)\n",
    "print('Solution = {0:8.5g}'.format(xsoln))\n",
    "print('Function value at solution = {0:8.5e}'.format(fxsoln))\n",
    "print('Relative error = {0:8.3e}'.format(ea))\n",
    "print('Number of iterations = {0:5d}'.format(iter))\n",
    "\n"
   ]
  },
  {
   "cell_type": "markdown",
   "metadata": {},
   "source": [
    "# Problem 6.3\n",
    "\n",
    "Determine the largest positive root of \n",
    "\n",
    "$$\n",
    "    f(x) = x^{3}-6x^{2}+11x-6.1\n",
    "$$\n",
    "\n",
    "(a) graphically, (b) using the Newton-Raphson method, three iterations, with $x_{0} = 3.5$, (c) using the secant method, with $x_{-1} = 2.5$ and $x_{0} = 3.5$, (d) using the modified secant method, five iterations, with $x_{0} = 3.5$ and $\\delta = 0.01$, and (e) find all roots using Python. Comment on your results.\n"
   ]
  },
  {
   "cell_type": "code",
   "execution_count": 28,
   "metadata": {},
   "outputs": [
    {
     "name": "stdout",
     "output_type": "stream",
     "text": [
      "Solution =   3.0473\n",
      "Function value at solution = 1.45603e-03\n",
      "Relative error = 7.017e-03\n",
      "Number of iterations =     3\n"
     ]
    }
   ],
   "source": [
    "#Newton-Raphson Method\n",
    "def NewtTraph(f, fp, x0, Ea = 1.e-7, maxit = 3):\n",
    "    for i in range(maxit):\n",
    "        x1 = x0 - (f(x0)/fp(x0))\n",
    "        ea = abs((x1-x0)/x1)\n",
    "        if ea <= Ea: break\n",
    "        x0 = x1\n",
    "\n",
    "    return x1, f(x1), ea, i+1\n",
    "\n",
    "\n",
    "x0  = 3.5\n",
    "\n",
    "def fx(x):\n",
    "    return x**3 - 6*x**2 + 11*x - 6.1\n",
    "\n",
    "def dfx(x):\n",
    "    return 3*x**2 - 12*x + 11\n",
    "\n",
    "xsoln, fxsoln, ea, iter = NewtTraph(fx, dfx, x0)\n",
    "print('Solution = {0:8.5g}'.format(xsoln))\n",
    "print('Function value at solution = {0:8.5e}'.format(fxsoln))\n",
    "print('Relative error = {0:8.3e}'.format(ea))\n",
    "print('Number of iterations = {0:5d}'.format(iter))"
   ]
  },
  {
   "cell_type": "code",
   "execution_count": 29,
   "metadata": {},
   "outputs": [
    {
     "name": "stdout",
     "output_type": "stream",
     "text": [
      "Solution =   3.0467\n",
      "Function value at solution = -1.47071e-05\n",
      "Relative error = 2.110e-06\n",
      "Number of iterations =     8\n"
     ]
    }
   ],
   "source": [
    "#Using the secant method\n",
    "\n",
    "def SecMeth(f, x1, x0, Ea = 1.e-7, maxit = 30):\n",
    "    \"\"\"\n",
    "    Finds the root of a function using the secant method.\n",
    "\n",
    "    Args:\n",
    "        f: The function for which to find the root.\n",
    "        x0: Initial guess for the root.\n",
    "        x1: Second initial guess for the root.\n",
    "        eps: Desired accuracy (default: 1e-6).\n",
    "        max_iter: Maximum number of iterations (default: 100).\n",
    "\n",
    "    Returns:\n",
    "        x1 = solution estimate\n",
    "        f(x1) = equation error at solution estimate\n",
    "        ea = relative error\n",
    "        i+1 = number of iterations\n",
    "    \"\"\"\n",
    "\n",
    "    for i in range(maxit):\n",
    "        try:\n",
    "          x2 = x1 -  f(x1) * (x1 - x0) / (f(x1) - f(x0))\n",
    "        except ZeroDivisionError:\n",
    "          print(\"Secant method failed: Division by zero.\")\n",
    "        \n",
    "        ea = abs((x2-x1)/x2)\n",
    "        if ea < Ea: break\n",
    "\n",
    "        x0 = x1\n",
    "        x1 = x2\n",
    "\n",
    "    return x1, f(x1), ea, i+1\n",
    "\n",
    "x1 = 3.5\n",
    "x0 = 2.5\n",
    "\n",
    "xsoln, fxsoln, ea, iter = SecMeth(fx, x1, x0, Ea = 1.e-5)\n",
    "print('Solution = {0:8.5g}'.format(xsoln))\n",
    "print('Function value at solution = {0:8.5e}'.format(fxsoln))\n",
    "print('Relative error = {0:8.3e}'.format(ea))\n",
    "print('Number of iterations = {0:5d}'.format(iter))"
   ]
  }
 ],
 "metadata": {
  "kernelspec": {
   "display_name": "base",
   "language": "python",
   "name": "python3"
  },
  "language_info": {
   "codemirror_mode": {
    "name": "ipython",
    "version": 3
   },
   "file_extension": ".py",
   "mimetype": "text/x-python",
   "name": "python",
   "nbconvert_exporter": "python",
   "pygments_lexer": "ipython3",
   "version": "3.9.13"
  }
 },
 "nbformat": 4,
 "nbformat_minor": 2
}
